{
  "nbformat": 4,
  "nbformat_minor": 0,
  "metadata": {
    "kernelspec": {
      "display_name": "Python 3",
      "language": "python",
      "name": "python3"
    },
    "language_info": {
      "codemirror_mode": {
        "name": "ipython",
        "version": 3
      },
      "file_extension": ".py",
      "mimetype": "text/x-python",
      "name": "python",
      "nbconvert_exporter": "python",
      "pygments_lexer": "ipython3",
      "version": "3.7.2"
    },
    "colab": {
      "provenance": []
    },
    "widgets": {
      "application/vnd.jupyter.widget-state+json": {
        "e15b8902158c45ffb94ab54b78ea16d8": {
          "model_module": "@jupyter-widgets/controls",
          "model_name": "HBoxModel",
          "model_module_version": "1.5.0",
          "state": {
            "_dom_classes": [],
            "_model_module": "@jupyter-widgets/controls",
            "_model_module_version": "1.5.0",
            "_model_name": "HBoxModel",
            "_view_count": null,
            "_view_module": "@jupyter-widgets/controls",
            "_view_module_version": "1.5.0",
            "_view_name": "HBoxView",
            "box_style": "",
            "children": [
              "IPY_MODEL_0b8a639867a2489e87e55c9b8dc3b374",
              "IPY_MODEL_9a2b58dc41d74bcb9b776a6ff32ee77a",
              "IPY_MODEL_fd53937d4c174968afc81d98a2d57aa9"
            ],
            "layout": "IPY_MODEL_1653f4b78a6c439d96bb964178da8812"
          }
        },
        "0b8a639867a2489e87e55c9b8dc3b374": {
          "model_module": "@jupyter-widgets/controls",
          "model_name": "HTMLModel",
          "model_module_version": "1.5.0",
          "state": {
            "_dom_classes": [],
            "_model_module": "@jupyter-widgets/controls",
            "_model_module_version": "1.5.0",
            "_model_name": "HTMLModel",
            "_view_count": null,
            "_view_module": "@jupyter-widgets/controls",
            "_view_module_version": "1.5.0",
            "_view_name": "HTMLView",
            "description": "",
            "description_tooltip": null,
            "layout": "IPY_MODEL_00cc724d0e99485d8831cf71f9272370",
            "placeholder": "​",
            "style": "IPY_MODEL_e328626a37d845d1a323e7bda7da3ff9",
            "value": " 27%"
          }
        },
        "9a2b58dc41d74bcb9b776a6ff32ee77a": {
          "model_module": "@jupyter-widgets/controls",
          "model_name": "FloatProgressModel",
          "model_module_version": "1.5.0",
          "state": {
            "_dom_classes": [],
            "_model_module": "@jupyter-widgets/controls",
            "_model_module_version": "1.5.0",
            "_model_name": "FloatProgressModel",
            "_view_count": null,
            "_view_module": "@jupyter-widgets/controls",
            "_view_module_version": "1.5.0",
            "_view_name": "ProgressView",
            "bar_style": "danger",
            "description": "",
            "description_tooltip": null,
            "layout": "IPY_MODEL_fdb9df4594db410887a7adfb49e95ba6",
            "max": 3760,
            "min": 0,
            "orientation": "horizontal",
            "style": "IPY_MODEL_50b3d2498e7f45628351630cba5586a4",
            "value": 1000
          }
        },
        "fd53937d4c174968afc81d98a2d57aa9": {
          "model_module": "@jupyter-widgets/controls",
          "model_name": "HTMLModel",
          "model_module_version": "1.5.0",
          "state": {
            "_dom_classes": [],
            "_model_module": "@jupyter-widgets/controls",
            "_model_module_version": "1.5.0",
            "_model_name": "HTMLModel",
            "_view_count": null,
            "_view_module": "@jupyter-widgets/controls",
            "_view_module_version": "1.5.0",
            "_view_name": "HTMLView",
            "description": "",
            "description_tooltip": null,
            "layout": "IPY_MODEL_e0298bcbbc1b4ab9b7ae451cf61ea8f7",
            "placeholder": "​",
            "style": "IPY_MODEL_88b683b08a4e48ac9fad923321fd5a42",
            "value": " 1000/3760 [01:20&lt;03:47, 12.13it/s]"
          }
        },
        "1653f4b78a6c439d96bb964178da8812": {
          "model_module": "@jupyter-widgets/base",
          "model_name": "LayoutModel",
          "model_module_version": "1.2.0",
          "state": {
            "_model_module": "@jupyter-widgets/base",
            "_model_module_version": "1.2.0",
            "_model_name": "LayoutModel",
            "_view_count": null,
            "_view_module": "@jupyter-widgets/base",
            "_view_module_version": "1.2.0",
            "_view_name": "LayoutView",
            "align_content": null,
            "align_items": null,
            "align_self": null,
            "border": null,
            "bottom": null,
            "display": null,
            "flex": null,
            "flex_flow": null,
            "grid_area": null,
            "grid_auto_columns": null,
            "grid_auto_flow": null,
            "grid_auto_rows": null,
            "grid_column": null,
            "grid_gap": null,
            "grid_row": null,
            "grid_template_areas": null,
            "grid_template_columns": null,
            "grid_template_rows": null,
            "height": null,
            "justify_content": null,
            "justify_items": null,
            "left": null,
            "margin": null,
            "max_height": null,
            "max_width": null,
            "min_height": null,
            "min_width": null,
            "object_fit": null,
            "object_position": null,
            "order": null,
            "overflow": null,
            "overflow_x": null,
            "overflow_y": null,
            "padding": null,
            "right": null,
            "top": null,
            "visibility": null,
            "width": null
          }
        },
        "00cc724d0e99485d8831cf71f9272370": {
          "model_module": "@jupyter-widgets/base",
          "model_name": "LayoutModel",
          "model_module_version": "1.2.0",
          "state": {
            "_model_module": "@jupyter-widgets/base",
            "_model_module_version": "1.2.0",
            "_model_name": "LayoutModel",
            "_view_count": null,
            "_view_module": "@jupyter-widgets/base",
            "_view_module_version": "1.2.0",
            "_view_name": "LayoutView",
            "align_content": null,
            "align_items": null,
            "align_self": null,
            "border": null,
            "bottom": null,
            "display": null,
            "flex": null,
            "flex_flow": null,
            "grid_area": null,
            "grid_auto_columns": null,
            "grid_auto_flow": null,
            "grid_auto_rows": null,
            "grid_column": null,
            "grid_gap": null,
            "grid_row": null,
            "grid_template_areas": null,
            "grid_template_columns": null,
            "grid_template_rows": null,
            "height": null,
            "justify_content": null,
            "justify_items": null,
            "left": null,
            "margin": null,
            "max_height": null,
            "max_width": null,
            "min_height": null,
            "min_width": null,
            "object_fit": null,
            "object_position": null,
            "order": null,
            "overflow": null,
            "overflow_x": null,
            "overflow_y": null,
            "padding": null,
            "right": null,
            "top": null,
            "visibility": null,
            "width": null
          }
        },
        "e328626a37d845d1a323e7bda7da3ff9": {
          "model_module": "@jupyter-widgets/controls",
          "model_name": "DescriptionStyleModel",
          "model_module_version": "1.5.0",
          "state": {
            "_model_module": "@jupyter-widgets/controls",
            "_model_module_version": "1.5.0",
            "_model_name": "DescriptionStyleModel",
            "_view_count": null,
            "_view_module": "@jupyter-widgets/base",
            "_view_module_version": "1.2.0",
            "_view_name": "StyleView",
            "description_width": ""
          }
        },
        "fdb9df4594db410887a7adfb49e95ba6": {
          "model_module": "@jupyter-widgets/base",
          "model_name": "LayoutModel",
          "model_module_version": "1.2.0",
          "state": {
            "_model_module": "@jupyter-widgets/base",
            "_model_module_version": "1.2.0",
            "_model_name": "LayoutModel",
            "_view_count": null,
            "_view_module": "@jupyter-widgets/base",
            "_view_module_version": "1.2.0",
            "_view_name": "LayoutView",
            "align_content": null,
            "align_items": null,
            "align_self": null,
            "border": null,
            "bottom": null,
            "display": null,
            "flex": null,
            "flex_flow": null,
            "grid_area": null,
            "grid_auto_columns": null,
            "grid_auto_flow": null,
            "grid_auto_rows": null,
            "grid_column": null,
            "grid_gap": null,
            "grid_row": null,
            "grid_template_areas": null,
            "grid_template_columns": null,
            "grid_template_rows": null,
            "height": null,
            "justify_content": null,
            "justify_items": null,
            "left": null,
            "margin": null,
            "max_height": null,
            "max_width": null,
            "min_height": null,
            "min_width": null,
            "object_fit": null,
            "object_position": null,
            "order": null,
            "overflow": null,
            "overflow_x": null,
            "overflow_y": null,
            "padding": null,
            "right": null,
            "top": null,
            "visibility": null,
            "width": null
          }
        },
        "50b3d2498e7f45628351630cba5586a4": {
          "model_module": "@jupyter-widgets/controls",
          "model_name": "ProgressStyleModel",
          "model_module_version": "1.5.0",
          "state": {
            "_model_module": "@jupyter-widgets/controls",
            "_model_module_version": "1.5.0",
            "_model_name": "ProgressStyleModel",
            "_view_count": null,
            "_view_module": "@jupyter-widgets/base",
            "_view_module_version": "1.2.0",
            "_view_name": "StyleView",
            "bar_color": null,
            "description_width": ""
          }
        },
        "e0298bcbbc1b4ab9b7ae451cf61ea8f7": {
          "model_module": "@jupyter-widgets/base",
          "model_name": "LayoutModel",
          "model_module_version": "1.2.0",
          "state": {
            "_model_module": "@jupyter-widgets/base",
            "_model_module_version": "1.2.0",
            "_model_name": "LayoutModel",
            "_view_count": null,
            "_view_module": "@jupyter-widgets/base",
            "_view_module_version": "1.2.0",
            "_view_name": "LayoutView",
            "align_content": null,
            "align_items": null,
            "align_self": null,
            "border": null,
            "bottom": null,
            "display": null,
            "flex": null,
            "flex_flow": null,
            "grid_area": null,
            "grid_auto_columns": null,
            "grid_auto_flow": null,
            "grid_auto_rows": null,
            "grid_column": null,
            "grid_gap": null,
            "grid_row": null,
            "grid_template_areas": null,
            "grid_template_columns": null,
            "grid_template_rows": null,
            "height": null,
            "justify_content": null,
            "justify_items": null,
            "left": null,
            "margin": null,
            "max_height": null,
            "max_width": null,
            "min_height": null,
            "min_width": null,
            "object_fit": null,
            "object_position": null,
            "order": null,
            "overflow": null,
            "overflow_x": null,
            "overflow_y": null,
            "padding": null,
            "right": null,
            "top": null,
            "visibility": null,
            "width": null
          }
        },
        "88b683b08a4e48ac9fad923321fd5a42": {
          "model_module": "@jupyter-widgets/controls",
          "model_name": "DescriptionStyleModel",
          "model_module_version": "1.5.0",
          "state": {
            "_model_module": "@jupyter-widgets/controls",
            "_model_module_version": "1.5.0",
            "_model_name": "DescriptionStyleModel",
            "_view_count": null,
            "_view_module": "@jupyter-widgets/base",
            "_view_module_version": "1.2.0",
            "_view_name": "StyleView",
            "description_width": ""
          }
        },
        "c6eff361117843fb84696d7d824217a3": {
          "model_module": "@jupyter-widgets/controls",
          "model_name": "HBoxModel",
          "model_module_version": "1.5.0",
          "state": {
            "_dom_classes": [],
            "_model_module": "@jupyter-widgets/controls",
            "_model_module_version": "1.5.0",
            "_model_name": "HBoxModel",
            "_view_count": null,
            "_view_module": "@jupyter-widgets/controls",
            "_view_module_version": "1.5.0",
            "_view_name": "HBoxView",
            "box_style": "",
            "children": [
              "IPY_MODEL_80123c15c6124b13a46cd8f79b9c46b0",
              "IPY_MODEL_bb4f04c0ef3c4a319b30ade8a2796147",
              "IPY_MODEL_d9866f70daf844d5938712389e44415a"
            ],
            "layout": "IPY_MODEL_46d26e6698c3474ca5d7546265d76687"
          }
        },
        "80123c15c6124b13a46cd8f79b9c46b0": {
          "model_module": "@jupyter-widgets/controls",
          "model_name": "HTMLModel",
          "model_module_version": "1.5.0",
          "state": {
            "_dom_classes": [],
            "_model_module": "@jupyter-widgets/controls",
            "_model_module_version": "1.5.0",
            "_model_name": "HTMLModel",
            "_view_count": null,
            "_view_module": "@jupyter-widgets/controls",
            "_view_module_version": "1.5.0",
            "_view_name": "HTMLView",
            "description": "",
            "description_tooltip": null,
            "layout": "IPY_MODEL_2281fef429d3496ab96ffce071c81b3c",
            "placeholder": "​",
            "style": "IPY_MODEL_6209acbd5cde4a9ea939cae82a12360e",
            "value": "100%"
          }
        },
        "bb4f04c0ef3c4a319b30ade8a2796147": {
          "model_module": "@jupyter-widgets/controls",
          "model_name": "FloatProgressModel",
          "model_module_version": "1.5.0",
          "state": {
            "_dom_classes": [],
            "_model_module": "@jupyter-widgets/controls",
            "_model_module_version": "1.5.0",
            "_model_name": "FloatProgressModel",
            "_view_count": null,
            "_view_module": "@jupyter-widgets/controls",
            "_view_module_version": "1.5.0",
            "_view_name": "ProgressView",
            "bar_style": "success",
            "description": "",
            "description_tooltip": null,
            "layout": "IPY_MODEL_69d67977019b42b9b7de9bd9dfb8e473",
            "max": 6,
            "min": 0,
            "orientation": "horizontal",
            "style": "IPY_MODEL_928f26ce147348459872d3005b019172",
            "value": 6
          }
        },
        "d9866f70daf844d5938712389e44415a": {
          "model_module": "@jupyter-widgets/controls",
          "model_name": "HTMLModel",
          "model_module_version": "1.5.0",
          "state": {
            "_dom_classes": [],
            "_model_module": "@jupyter-widgets/controls",
            "_model_module_version": "1.5.0",
            "_model_name": "HTMLModel",
            "_view_count": null,
            "_view_module": "@jupyter-widgets/controls",
            "_view_module_version": "1.5.0",
            "_view_name": "HTMLView",
            "description": "",
            "description_tooltip": null,
            "layout": "IPY_MODEL_5ed9d7b73d384effa5f4e848382e1593",
            "placeholder": "​",
            "style": "IPY_MODEL_62df3989cedf477fb8def13f4ad76ecb",
            "value": " 6/6 [00:00&lt;00:00, 407.74it/s]"
          }
        },
        "46d26e6698c3474ca5d7546265d76687": {
          "model_module": "@jupyter-widgets/base",
          "model_name": "LayoutModel",
          "model_module_version": "1.2.0",
          "state": {
            "_model_module": "@jupyter-widgets/base",
            "_model_module_version": "1.2.0",
            "_model_name": "LayoutModel",
            "_view_count": null,
            "_view_module": "@jupyter-widgets/base",
            "_view_module_version": "1.2.0",
            "_view_name": "LayoutView",
            "align_content": null,
            "align_items": null,
            "align_self": null,
            "border": null,
            "bottom": null,
            "display": null,
            "flex": null,
            "flex_flow": null,
            "grid_area": null,
            "grid_auto_columns": null,
            "grid_auto_flow": null,
            "grid_auto_rows": null,
            "grid_column": null,
            "grid_gap": null,
            "grid_row": null,
            "grid_template_areas": null,
            "grid_template_columns": null,
            "grid_template_rows": null,
            "height": null,
            "justify_content": null,
            "justify_items": null,
            "left": null,
            "margin": null,
            "max_height": null,
            "max_width": null,
            "min_height": null,
            "min_width": null,
            "object_fit": null,
            "object_position": null,
            "order": null,
            "overflow": null,
            "overflow_x": null,
            "overflow_y": null,
            "padding": null,
            "right": null,
            "top": null,
            "visibility": null,
            "width": null
          }
        },
        "2281fef429d3496ab96ffce071c81b3c": {
          "model_module": "@jupyter-widgets/base",
          "model_name": "LayoutModel",
          "model_module_version": "1.2.0",
          "state": {
            "_model_module": "@jupyter-widgets/base",
            "_model_module_version": "1.2.0",
            "_model_name": "LayoutModel",
            "_view_count": null,
            "_view_module": "@jupyter-widgets/base",
            "_view_module_version": "1.2.0",
            "_view_name": "LayoutView",
            "align_content": null,
            "align_items": null,
            "align_self": null,
            "border": null,
            "bottom": null,
            "display": null,
            "flex": null,
            "flex_flow": null,
            "grid_area": null,
            "grid_auto_columns": null,
            "grid_auto_flow": null,
            "grid_auto_rows": null,
            "grid_column": null,
            "grid_gap": null,
            "grid_row": null,
            "grid_template_areas": null,
            "grid_template_columns": null,
            "grid_template_rows": null,
            "height": null,
            "justify_content": null,
            "justify_items": null,
            "left": null,
            "margin": null,
            "max_height": null,
            "max_width": null,
            "min_height": null,
            "min_width": null,
            "object_fit": null,
            "object_position": null,
            "order": null,
            "overflow": null,
            "overflow_x": null,
            "overflow_y": null,
            "padding": null,
            "right": null,
            "top": null,
            "visibility": null,
            "width": null
          }
        },
        "6209acbd5cde4a9ea939cae82a12360e": {
          "model_module": "@jupyter-widgets/controls",
          "model_name": "DescriptionStyleModel",
          "model_module_version": "1.5.0",
          "state": {
            "_model_module": "@jupyter-widgets/controls",
            "_model_module_version": "1.5.0",
            "_model_name": "DescriptionStyleModel",
            "_view_count": null,
            "_view_module": "@jupyter-widgets/base",
            "_view_module_version": "1.2.0",
            "_view_name": "StyleView",
            "description_width": ""
          }
        },
        "69d67977019b42b9b7de9bd9dfb8e473": {
          "model_module": "@jupyter-widgets/base",
          "model_name": "LayoutModel",
          "model_module_version": "1.2.0",
          "state": {
            "_model_module": "@jupyter-widgets/base",
            "_model_module_version": "1.2.0",
            "_model_name": "LayoutModel",
            "_view_count": null,
            "_view_module": "@jupyter-widgets/base",
            "_view_module_version": "1.2.0",
            "_view_name": "LayoutView",
            "align_content": null,
            "align_items": null,
            "align_self": null,
            "border": null,
            "bottom": null,
            "display": null,
            "flex": null,
            "flex_flow": null,
            "grid_area": null,
            "grid_auto_columns": null,
            "grid_auto_flow": null,
            "grid_auto_rows": null,
            "grid_column": null,
            "grid_gap": null,
            "grid_row": null,
            "grid_template_areas": null,
            "grid_template_columns": null,
            "grid_template_rows": null,
            "height": null,
            "justify_content": null,
            "justify_items": null,
            "left": null,
            "margin": null,
            "max_height": null,
            "max_width": null,
            "min_height": null,
            "min_width": null,
            "object_fit": null,
            "object_position": null,
            "order": null,
            "overflow": null,
            "overflow_x": null,
            "overflow_y": null,
            "padding": null,
            "right": null,
            "top": null,
            "visibility": null,
            "width": null
          }
        },
        "928f26ce147348459872d3005b019172": {
          "model_module": "@jupyter-widgets/controls",
          "model_name": "ProgressStyleModel",
          "model_module_version": "1.5.0",
          "state": {
            "_model_module": "@jupyter-widgets/controls",
            "_model_module_version": "1.5.0",
            "_model_name": "ProgressStyleModel",
            "_view_count": null,
            "_view_module": "@jupyter-widgets/base",
            "_view_module_version": "1.2.0",
            "_view_name": "StyleView",
            "bar_color": null,
            "description_width": ""
          }
        },
        "5ed9d7b73d384effa5f4e848382e1593": {
          "model_module": "@jupyter-widgets/base",
          "model_name": "LayoutModel",
          "model_module_version": "1.2.0",
          "state": {
            "_model_module": "@jupyter-widgets/base",
            "_model_module_version": "1.2.0",
            "_model_name": "LayoutModel",
            "_view_count": null,
            "_view_module": "@jupyter-widgets/base",
            "_view_module_version": "1.2.0",
            "_view_name": "LayoutView",
            "align_content": null,
            "align_items": null,
            "align_self": null,
            "border": null,
            "bottom": null,
            "display": null,
            "flex": null,
            "flex_flow": null,
            "grid_area": null,
            "grid_auto_columns": null,
            "grid_auto_flow": null,
            "grid_auto_rows": null,
            "grid_column": null,
            "grid_gap": null,
            "grid_row": null,
            "grid_template_areas": null,
            "grid_template_columns": null,
            "grid_template_rows": null,
            "height": null,
            "justify_content": null,
            "justify_items": null,
            "left": null,
            "margin": null,
            "max_height": null,
            "max_width": null,
            "min_height": null,
            "min_width": null,
            "object_fit": null,
            "object_position": null,
            "order": null,
            "overflow": null,
            "overflow_x": null,
            "overflow_y": null,
            "padding": null,
            "right": null,
            "top": null,
            "visibility": null,
            "width": null
          }
        },
        "62df3989cedf477fb8def13f4ad76ecb": {
          "model_module": "@jupyter-widgets/controls",
          "model_name": "DescriptionStyleModel",
          "model_module_version": "1.5.0",
          "state": {
            "_model_module": "@jupyter-widgets/controls",
            "_model_module_version": "1.5.0",
            "_model_name": "DescriptionStyleModel",
            "_view_count": null,
            "_view_module": "@jupyter-widgets/base",
            "_view_module_version": "1.2.0",
            "_view_name": "StyleView",
            "description_width": ""
          }
        },
        "d841a4bc85e94060a4fb92c2bb39fb69": {
          "model_module": "@jupyter-widgets/controls",
          "model_name": "HBoxModel",
          "model_module_version": "1.5.0",
          "state": {
            "_dom_classes": [],
            "_model_module": "@jupyter-widgets/controls",
            "_model_module_version": "1.5.0",
            "_model_name": "HBoxModel",
            "_view_count": null,
            "_view_module": "@jupyter-widgets/controls",
            "_view_module_version": "1.5.0",
            "_view_name": "HBoxView",
            "box_style": "",
            "children": [
              "IPY_MODEL_07738327b4a944a3b7ad646f866481cd",
              "IPY_MODEL_79bc98946ed44d16aad351fe36aa82a7",
              "IPY_MODEL_a113bf2364b34526955325355b976846"
            ],
            "layout": "IPY_MODEL_7a59b33f5d554d049b442dcce2cb4819"
          }
        },
        "07738327b4a944a3b7ad646f866481cd": {
          "model_module": "@jupyter-widgets/controls",
          "model_name": "HTMLModel",
          "model_module_version": "1.5.0",
          "state": {
            "_dom_classes": [],
            "_model_module": "@jupyter-widgets/controls",
            "_model_module_version": "1.5.0",
            "_model_name": "HTMLModel",
            "_view_count": null,
            "_view_module": "@jupyter-widgets/controls",
            "_view_module_version": "1.5.0",
            "_view_name": "HTMLView",
            "description": "",
            "description_tooltip": null,
            "layout": "IPY_MODEL_7774bb4809924c46ae6468d7fcf703f4",
            "placeholder": "​",
            "style": "IPY_MODEL_383ec7e22a3c40e6ad0b6a00306fc9e8",
            "value": " 27%"
          }
        },
        "79bc98946ed44d16aad351fe36aa82a7": {
          "model_module": "@jupyter-widgets/controls",
          "model_name": "FloatProgressModel",
          "model_module_version": "1.5.0",
          "state": {
            "_dom_classes": [],
            "_model_module": "@jupyter-widgets/controls",
            "_model_module_version": "1.5.0",
            "_model_name": "FloatProgressModel",
            "_view_count": null,
            "_view_module": "@jupyter-widgets/controls",
            "_view_module_version": "1.5.0",
            "_view_name": "ProgressView",
            "bar_style": "danger",
            "description": "",
            "description_tooltip": null,
            "layout": "IPY_MODEL_2b360da447d64cf6bfa45da3dc718b06",
            "max": 3760,
            "min": 0,
            "orientation": "horizontal",
            "style": "IPY_MODEL_6d42d02a512b4180988dd8f3a85bdd3c",
            "value": 1000
          }
        },
        "a113bf2364b34526955325355b976846": {
          "model_module": "@jupyter-widgets/controls",
          "model_name": "HTMLModel",
          "model_module_version": "1.5.0",
          "state": {
            "_dom_classes": [],
            "_model_module": "@jupyter-widgets/controls",
            "_model_module_version": "1.5.0",
            "_model_name": "HTMLModel",
            "_view_count": null,
            "_view_module": "@jupyter-widgets/controls",
            "_view_module_version": "1.5.0",
            "_view_name": "HTMLView",
            "description": "",
            "description_tooltip": null,
            "layout": "IPY_MODEL_f15dff93c8684a9e9a1d1e412400dee5",
            "placeholder": "​",
            "style": "IPY_MODEL_9473a3b7ba054be39720dce366bb32e7",
            "value": " 1000/3760 [01:20&lt;05:36,  8.19it/s]"
          }
        },
        "7a59b33f5d554d049b442dcce2cb4819": {
          "model_module": "@jupyter-widgets/base",
          "model_name": "LayoutModel",
          "model_module_version": "1.2.0",
          "state": {
            "_model_module": "@jupyter-widgets/base",
            "_model_module_version": "1.2.0",
            "_model_name": "LayoutModel",
            "_view_count": null,
            "_view_module": "@jupyter-widgets/base",
            "_view_module_version": "1.2.0",
            "_view_name": "LayoutView",
            "align_content": null,
            "align_items": null,
            "align_self": null,
            "border": null,
            "bottom": null,
            "display": null,
            "flex": null,
            "flex_flow": null,
            "grid_area": null,
            "grid_auto_columns": null,
            "grid_auto_flow": null,
            "grid_auto_rows": null,
            "grid_column": null,
            "grid_gap": null,
            "grid_row": null,
            "grid_template_areas": null,
            "grid_template_columns": null,
            "grid_template_rows": null,
            "height": null,
            "justify_content": null,
            "justify_items": null,
            "left": null,
            "margin": null,
            "max_height": null,
            "max_width": null,
            "min_height": null,
            "min_width": null,
            "object_fit": null,
            "object_position": null,
            "order": null,
            "overflow": null,
            "overflow_x": null,
            "overflow_y": null,
            "padding": null,
            "right": null,
            "top": null,
            "visibility": null,
            "width": null
          }
        },
        "7774bb4809924c46ae6468d7fcf703f4": {
          "model_module": "@jupyter-widgets/base",
          "model_name": "LayoutModel",
          "model_module_version": "1.2.0",
          "state": {
            "_model_module": "@jupyter-widgets/base",
            "_model_module_version": "1.2.0",
            "_model_name": "LayoutModel",
            "_view_count": null,
            "_view_module": "@jupyter-widgets/base",
            "_view_module_version": "1.2.0",
            "_view_name": "LayoutView",
            "align_content": null,
            "align_items": null,
            "align_self": null,
            "border": null,
            "bottom": null,
            "display": null,
            "flex": null,
            "flex_flow": null,
            "grid_area": null,
            "grid_auto_columns": null,
            "grid_auto_flow": null,
            "grid_auto_rows": null,
            "grid_column": null,
            "grid_gap": null,
            "grid_row": null,
            "grid_template_areas": null,
            "grid_template_columns": null,
            "grid_template_rows": null,
            "height": null,
            "justify_content": null,
            "justify_items": null,
            "left": null,
            "margin": null,
            "max_height": null,
            "max_width": null,
            "min_height": null,
            "min_width": null,
            "object_fit": null,
            "object_position": null,
            "order": null,
            "overflow": null,
            "overflow_x": null,
            "overflow_y": null,
            "padding": null,
            "right": null,
            "top": null,
            "visibility": null,
            "width": null
          }
        },
        "383ec7e22a3c40e6ad0b6a00306fc9e8": {
          "model_module": "@jupyter-widgets/controls",
          "model_name": "DescriptionStyleModel",
          "model_module_version": "1.5.0",
          "state": {
            "_model_module": "@jupyter-widgets/controls",
            "_model_module_version": "1.5.0",
            "_model_name": "DescriptionStyleModel",
            "_view_count": null,
            "_view_module": "@jupyter-widgets/base",
            "_view_module_version": "1.2.0",
            "_view_name": "StyleView",
            "description_width": ""
          }
        },
        "2b360da447d64cf6bfa45da3dc718b06": {
          "model_module": "@jupyter-widgets/base",
          "model_name": "LayoutModel",
          "model_module_version": "1.2.0",
          "state": {
            "_model_module": "@jupyter-widgets/base",
            "_model_module_version": "1.2.0",
            "_model_name": "LayoutModel",
            "_view_count": null,
            "_view_module": "@jupyter-widgets/base",
            "_view_module_version": "1.2.0",
            "_view_name": "LayoutView",
            "align_content": null,
            "align_items": null,
            "align_self": null,
            "border": null,
            "bottom": null,
            "display": null,
            "flex": null,
            "flex_flow": null,
            "grid_area": null,
            "grid_auto_columns": null,
            "grid_auto_flow": null,
            "grid_auto_rows": null,
            "grid_column": null,
            "grid_gap": null,
            "grid_row": null,
            "grid_template_areas": null,
            "grid_template_columns": null,
            "grid_template_rows": null,
            "height": null,
            "justify_content": null,
            "justify_items": null,
            "left": null,
            "margin": null,
            "max_height": null,
            "max_width": null,
            "min_height": null,
            "min_width": null,
            "object_fit": null,
            "object_position": null,
            "order": null,
            "overflow": null,
            "overflow_x": null,
            "overflow_y": null,
            "padding": null,
            "right": null,
            "top": null,
            "visibility": null,
            "width": null
          }
        },
        "6d42d02a512b4180988dd8f3a85bdd3c": {
          "model_module": "@jupyter-widgets/controls",
          "model_name": "ProgressStyleModel",
          "model_module_version": "1.5.0",
          "state": {
            "_model_module": "@jupyter-widgets/controls",
            "_model_module_version": "1.5.0",
            "_model_name": "ProgressStyleModel",
            "_view_count": null,
            "_view_module": "@jupyter-widgets/base",
            "_view_module_version": "1.2.0",
            "_view_name": "StyleView",
            "bar_color": null,
            "description_width": ""
          }
        },
        "f15dff93c8684a9e9a1d1e412400dee5": {
          "model_module": "@jupyter-widgets/base",
          "model_name": "LayoutModel",
          "model_module_version": "1.2.0",
          "state": {
            "_model_module": "@jupyter-widgets/base",
            "_model_module_version": "1.2.0",
            "_model_name": "LayoutModel",
            "_view_count": null,
            "_view_module": "@jupyter-widgets/base",
            "_view_module_version": "1.2.0",
            "_view_name": "LayoutView",
            "align_content": null,
            "align_items": null,
            "align_self": null,
            "border": null,
            "bottom": null,
            "display": null,
            "flex": null,
            "flex_flow": null,
            "grid_area": null,
            "grid_auto_columns": null,
            "grid_auto_flow": null,
            "grid_auto_rows": null,
            "grid_column": null,
            "grid_gap": null,
            "grid_row": null,
            "grid_template_areas": null,
            "grid_template_columns": null,
            "grid_template_rows": null,
            "height": null,
            "justify_content": null,
            "justify_items": null,
            "left": null,
            "margin": null,
            "max_height": null,
            "max_width": null,
            "min_height": null,
            "min_width": null,
            "object_fit": null,
            "object_position": null,
            "order": null,
            "overflow": null,
            "overflow_x": null,
            "overflow_y": null,
            "padding": null,
            "right": null,
            "top": null,
            "visibility": null,
            "width": null
          }
        },
        "9473a3b7ba054be39720dce366bb32e7": {
          "model_module": "@jupyter-widgets/controls",
          "model_name": "DescriptionStyleModel",
          "model_module_version": "1.5.0",
          "state": {
            "_model_module": "@jupyter-widgets/controls",
            "_model_module_version": "1.5.0",
            "_model_name": "DescriptionStyleModel",
            "_view_count": null,
            "_view_module": "@jupyter-widgets/base",
            "_view_module_version": "1.2.0",
            "_view_name": "StyleView",
            "description_width": ""
          }
        },
        "caa6d29bfcbe4494a62e698c5ab68dca": {
          "model_module": "@jupyter-widgets/controls",
          "model_name": "HBoxModel",
          "model_module_version": "1.5.0",
          "state": {
            "_dom_classes": [],
            "_model_module": "@jupyter-widgets/controls",
            "_model_module_version": "1.5.0",
            "_model_name": "HBoxModel",
            "_view_count": null,
            "_view_module": "@jupyter-widgets/controls",
            "_view_module_version": "1.5.0",
            "_view_name": "HBoxView",
            "box_style": "",
            "children": [
              "IPY_MODEL_b405e83bf4e34f5e8fc17533f84fd5f2",
              "IPY_MODEL_40d3e02fb01d4b58a1dd1b34dd66d6c7",
              "IPY_MODEL_448fdcb3ca674d19a29db741e1cd230a"
            ],
            "layout": "IPY_MODEL_b9c43379f13d468fb4296edbd68f0c42"
          }
        },
        "b405e83bf4e34f5e8fc17533f84fd5f2": {
          "model_module": "@jupyter-widgets/controls",
          "model_name": "HTMLModel",
          "model_module_version": "1.5.0",
          "state": {
            "_dom_classes": [],
            "_model_module": "@jupyter-widgets/controls",
            "_model_module_version": "1.5.0",
            "_model_name": "HTMLModel",
            "_view_count": null,
            "_view_module": "@jupyter-widgets/controls",
            "_view_module_version": "1.5.0",
            "_view_name": "HTMLView",
            "description": "",
            "description_tooltip": null,
            "layout": "IPY_MODEL_2daf4f5e69984cf687d5f1fd676c7bef",
            "placeholder": "​",
            "style": "IPY_MODEL_9801be9535724ea8a666edf9d7fa9170",
            "value": "100%"
          }
        },
        "40d3e02fb01d4b58a1dd1b34dd66d6c7": {
          "model_module": "@jupyter-widgets/controls",
          "model_name": "FloatProgressModel",
          "model_module_version": "1.5.0",
          "state": {
            "_dom_classes": [],
            "_model_module": "@jupyter-widgets/controls",
            "_model_module_version": "1.5.0",
            "_model_name": "FloatProgressModel",
            "_view_count": null,
            "_view_module": "@jupyter-widgets/controls",
            "_view_module_version": "1.5.0",
            "_view_name": "ProgressView",
            "bar_style": "success",
            "description": "",
            "description_tooltip": null,
            "layout": "IPY_MODEL_59089f2cc0824c5c8c7a08e0208e6824",
            "max": 6,
            "min": 0,
            "orientation": "horizontal",
            "style": "IPY_MODEL_78d5d8f580c44581b538b1e1cd0be0ee",
            "value": 6
          }
        },
        "448fdcb3ca674d19a29db741e1cd230a": {
          "model_module": "@jupyter-widgets/controls",
          "model_name": "HTMLModel",
          "model_module_version": "1.5.0",
          "state": {
            "_dom_classes": [],
            "_model_module": "@jupyter-widgets/controls",
            "_model_module_version": "1.5.0",
            "_model_name": "HTMLModel",
            "_view_count": null,
            "_view_module": "@jupyter-widgets/controls",
            "_view_module_version": "1.5.0",
            "_view_name": "HTMLView",
            "description": "",
            "description_tooltip": null,
            "layout": "IPY_MODEL_af30e1b046644ffa95e716bceee9776b",
            "placeholder": "​",
            "style": "IPY_MODEL_8a32a55db27f4c1faac34a19335c17ff",
            "value": " 6/6 [00:00&lt;00:00, 262.03it/s]"
          }
        },
        "b9c43379f13d468fb4296edbd68f0c42": {
          "model_module": "@jupyter-widgets/base",
          "model_name": "LayoutModel",
          "model_module_version": "1.2.0",
          "state": {
            "_model_module": "@jupyter-widgets/base",
            "_model_module_version": "1.2.0",
            "_model_name": "LayoutModel",
            "_view_count": null,
            "_view_module": "@jupyter-widgets/base",
            "_view_module_version": "1.2.0",
            "_view_name": "LayoutView",
            "align_content": null,
            "align_items": null,
            "align_self": null,
            "border": null,
            "bottom": null,
            "display": null,
            "flex": null,
            "flex_flow": null,
            "grid_area": null,
            "grid_auto_columns": null,
            "grid_auto_flow": null,
            "grid_auto_rows": null,
            "grid_column": null,
            "grid_gap": null,
            "grid_row": null,
            "grid_template_areas": null,
            "grid_template_columns": null,
            "grid_template_rows": null,
            "height": null,
            "justify_content": null,
            "justify_items": null,
            "left": null,
            "margin": null,
            "max_height": null,
            "max_width": null,
            "min_height": null,
            "min_width": null,
            "object_fit": null,
            "object_position": null,
            "order": null,
            "overflow": null,
            "overflow_x": null,
            "overflow_y": null,
            "padding": null,
            "right": null,
            "top": null,
            "visibility": null,
            "width": null
          }
        },
        "2daf4f5e69984cf687d5f1fd676c7bef": {
          "model_module": "@jupyter-widgets/base",
          "model_name": "LayoutModel",
          "model_module_version": "1.2.0",
          "state": {
            "_model_module": "@jupyter-widgets/base",
            "_model_module_version": "1.2.0",
            "_model_name": "LayoutModel",
            "_view_count": null,
            "_view_module": "@jupyter-widgets/base",
            "_view_module_version": "1.2.0",
            "_view_name": "LayoutView",
            "align_content": null,
            "align_items": null,
            "align_self": null,
            "border": null,
            "bottom": null,
            "display": null,
            "flex": null,
            "flex_flow": null,
            "grid_area": null,
            "grid_auto_columns": null,
            "grid_auto_flow": null,
            "grid_auto_rows": null,
            "grid_column": null,
            "grid_gap": null,
            "grid_row": null,
            "grid_template_areas": null,
            "grid_template_columns": null,
            "grid_template_rows": null,
            "height": null,
            "justify_content": null,
            "justify_items": null,
            "left": null,
            "margin": null,
            "max_height": null,
            "max_width": null,
            "min_height": null,
            "min_width": null,
            "object_fit": null,
            "object_position": null,
            "order": null,
            "overflow": null,
            "overflow_x": null,
            "overflow_y": null,
            "padding": null,
            "right": null,
            "top": null,
            "visibility": null,
            "width": null
          }
        },
        "9801be9535724ea8a666edf9d7fa9170": {
          "model_module": "@jupyter-widgets/controls",
          "model_name": "DescriptionStyleModel",
          "model_module_version": "1.5.0",
          "state": {
            "_model_module": "@jupyter-widgets/controls",
            "_model_module_version": "1.5.0",
            "_model_name": "DescriptionStyleModel",
            "_view_count": null,
            "_view_module": "@jupyter-widgets/base",
            "_view_module_version": "1.2.0",
            "_view_name": "StyleView",
            "description_width": ""
          }
        },
        "59089f2cc0824c5c8c7a08e0208e6824": {
          "model_module": "@jupyter-widgets/base",
          "model_name": "LayoutModel",
          "model_module_version": "1.2.0",
          "state": {
            "_model_module": "@jupyter-widgets/base",
            "_model_module_version": "1.2.0",
            "_model_name": "LayoutModel",
            "_view_count": null,
            "_view_module": "@jupyter-widgets/base",
            "_view_module_version": "1.2.0",
            "_view_name": "LayoutView",
            "align_content": null,
            "align_items": null,
            "align_self": null,
            "border": null,
            "bottom": null,
            "display": null,
            "flex": null,
            "flex_flow": null,
            "grid_area": null,
            "grid_auto_columns": null,
            "grid_auto_flow": null,
            "grid_auto_rows": null,
            "grid_column": null,
            "grid_gap": null,
            "grid_row": null,
            "grid_template_areas": null,
            "grid_template_columns": null,
            "grid_template_rows": null,
            "height": null,
            "justify_content": null,
            "justify_items": null,
            "left": null,
            "margin": null,
            "max_height": null,
            "max_width": null,
            "min_height": null,
            "min_width": null,
            "object_fit": null,
            "object_position": null,
            "order": null,
            "overflow": null,
            "overflow_x": null,
            "overflow_y": null,
            "padding": null,
            "right": null,
            "top": null,
            "visibility": null,
            "width": null
          }
        },
        "78d5d8f580c44581b538b1e1cd0be0ee": {
          "model_module": "@jupyter-widgets/controls",
          "model_name": "ProgressStyleModel",
          "model_module_version": "1.5.0",
          "state": {
            "_model_module": "@jupyter-widgets/controls",
            "_model_module_version": "1.5.0",
            "_model_name": "ProgressStyleModel",
            "_view_count": null,
            "_view_module": "@jupyter-widgets/base",
            "_view_module_version": "1.2.0",
            "_view_name": "StyleView",
            "bar_color": null,
            "description_width": ""
          }
        },
        "af30e1b046644ffa95e716bceee9776b": {
          "model_module": "@jupyter-widgets/base",
          "model_name": "LayoutModel",
          "model_module_version": "1.2.0",
          "state": {
            "_model_module": "@jupyter-widgets/base",
            "_model_module_version": "1.2.0",
            "_model_name": "LayoutModel",
            "_view_count": null,
            "_view_module": "@jupyter-widgets/base",
            "_view_module_version": "1.2.0",
            "_view_name": "LayoutView",
            "align_content": null,
            "align_items": null,
            "align_self": null,
            "border": null,
            "bottom": null,
            "display": null,
            "flex": null,
            "flex_flow": null,
            "grid_area": null,
            "grid_auto_columns": null,
            "grid_auto_flow": null,
            "grid_auto_rows": null,
            "grid_column": null,
            "grid_gap": null,
            "grid_row": null,
            "grid_template_areas": null,
            "grid_template_columns": null,
            "grid_template_rows": null,
            "height": null,
            "justify_content": null,
            "justify_items": null,
            "left": null,
            "margin": null,
            "max_height": null,
            "max_width": null,
            "min_height": null,
            "min_width": null,
            "object_fit": null,
            "object_position": null,
            "order": null,
            "overflow": null,
            "overflow_x": null,
            "overflow_y": null,
            "padding": null,
            "right": null,
            "top": null,
            "visibility": null,
            "width": null
          }
        },
        "8a32a55db27f4c1faac34a19335c17ff": {
          "model_module": "@jupyter-widgets/controls",
          "model_name": "DescriptionStyleModel",
          "model_module_version": "1.5.0",
          "state": {
            "_model_module": "@jupyter-widgets/controls",
            "_model_module_version": "1.5.0",
            "_model_name": "DescriptionStyleModel",
            "_view_count": null,
            "_view_module": "@jupyter-widgets/base",
            "_view_module_version": "1.2.0",
            "_view_name": "StyleView",
            "description_width": ""
          }
        }
      }
    }
  },
  "cells": [
    {
      "cell_type": "markdown",
      "metadata": {
        "id": "Ot3c4fjZwC4T"
      },
      "source": [
        "<img src=\"https://s8.hostingkartinok.com/uploads/images/2018/08/308b49fcfbc619d629fe4604bceb67ac.jpg\" width=500, height=450>\n",
        "<h3 style=\"text-align: center;\"><b>Физтех-Школа Прикладной математики и информатики (ФПМИ) МФТИ</b></h3>"
      ]
    },
    {
      "cell_type": "markdown",
      "metadata": {
        "id": "P2JdzEXmwRU5"
      },
      "source": [
        "---"
      ]
    },
    {
      "cell_type": "markdown",
      "metadata": {
        "id": "Fc8iHXIVwDwj"
      },
      "source": [
        "***Some parts of the notebook are almost the copy of [ mmta-team course](https://github.com/mmta-team/mmta_fall_2020). Special thanks to mmta-team for making them publicly available. [Original notebook](https://github.com/mmta-team/mmta_fall_2020/blob/master/tasks/01_word_embeddings/task_word_embeddings.ipynb).***"
      ]
    },
    {
      "cell_type": "markdown",
      "metadata": {
        "id": "7D0wm5jt6j0U"
      },
      "source": [
        "<b> Прочитайте семинар, пожалуйста, для успешного выполнения домашнего задания. В конце ноутка напишите свой вывод. Работа без вывода оценивается ниже."
      ]
    },
    {
      "cell_type": "markdown",
      "metadata": {
        "id": "BIWqBuEa6j0b"
      },
      "source": [
        "## Задача поиска схожих по смыслу предложений"
      ]
    },
    {
      "cell_type": "markdown",
      "metadata": {
        "id": "NUkwMPLA6j0g"
      },
      "source": [
        "Мы будем ранжировать вопросы [StackOverflow](https://stackoverflow.com) на основе семантического векторного представления"
      ]
    },
    {
      "cell_type": "markdown",
      "metadata": {
        "id": "dNRXIEfu5a3Q"
      },
      "source": [
        "До этого в курсе не было речи про задачу ранжировния, поэтому введем математическую формулировку"
      ]
    },
    {
      "cell_type": "markdown",
      "metadata": {
        "id": "uS9FwWNd5a3S"
      },
      "source": [
        "## Задача ранжирования(Learning to Rank)"
      ]
    },
    {
      "cell_type": "markdown",
      "metadata": {
        "id": "wdwY9-f75a3T"
      },
      "source": [
        "* $X$ - множество объектов\n",
        "* $X^l = \\{x_1, x_2, ..., x_l\\}$ - обучающая выборка\n",
        "<br>На обучающей выборке задан порядок между некоторыми элементами, то есть нам известно, что некий объект выборки более релевантный для нас, чем другой:\n",
        "* $i \\prec j$ - порядок пары индексов объектов на выборке $X^l$ c индексами $i$ и $j$\n",
        "### Задача:\n",
        "построить ранжирующую функцию $a$ : $X \\rightarrow R$ такую, что\n",
        "$$i \\prec j \\Rightarrow a(x_i) < a(x_j)$$"
      ]
    },
    {
      "cell_type": "markdown",
      "metadata": {
        "id": "WG2IGBsh5a3U"
      },
      "source": [
        "<img src=\"https://d25skit2l41vkl.cloudfront.net/wp-content/uploads/2016/12/Featured-Image.jpg\" width=500, height=450>"
      ]
    },
    {
      "cell_type": "markdown",
      "metadata": {
        "id": "MQk_rolFwT_h"
      },
      "source": [
        "### Embeddings"
      ]
    },
    {
      "cell_type": "markdown",
      "metadata": {
        "id": "xUe1PGXn6j0l"
      },
      "source": [
        "Будем использовать предобученные векторные представления слов на постах Stack Overflow.<br>\n",
        "[A word2vec model trained on Stack Overflow posts](https://github.com/vefstathiou/SO_word2vec)"
      ]
    },
    {
      "cell_type": "code",
      "metadata": {
        "id": "mYkI54Y-rk7a",
        "colab": {
          "base_uri": "https://localhost:8080/"
        },
        "outputId": "5a37f97c-2178-400f-9672-f80b90c3591e"
      },
      "source": [
        "!wget https://zenodo.org/record/1199620/files/SO_vectors_200.bin?download=1"
      ],
      "execution_count": 13,
      "outputs": [
        {
          "output_type": "stream",
          "name": "stdout",
          "text": [
            "--2025-02-25 09:58:45--  https://zenodo.org/record/1199620/files/SO_vectors_200.bin?download=1\n",
            "Resolving zenodo.org (zenodo.org)... 188.185.48.194, 188.185.45.92, 188.185.43.25, ...\n",
            "Connecting to zenodo.org (zenodo.org)|188.185.48.194|:443... connected.\n",
            "HTTP request sent, awaiting response... 301 MOVED PERMANENTLY\n",
            "Location: /records/1199620/files/SO_vectors_200.bin [following]\n",
            "--2025-02-25 09:58:46--  https://zenodo.org/records/1199620/files/SO_vectors_200.bin\n",
            "Reusing existing connection to zenodo.org:443.\n",
            "HTTP request sent, awaiting response... 200 OK\n",
            "Length: 1453905423 (1.4G) [application/octet-stream]\n",
            "Saving to: ‘SO_vectors_200.bin?download=1’\n",
            "\n",
            "SO_vectors_200.bin? 100%[===================>]   1.35G  5.13MB/s    in 3m 24s  \n",
            "\n",
            "2025-02-25 10:02:10 (6.79 MB/s) - ‘SO_vectors_200.bin?download=1’ saved [1453905423/1453905423]\n",
            "\n"
          ]
        }
      ]
    },
    {
      "cell_type": "code",
      "metadata": {
        "id": "O8YJTOYv6j0s"
      },
      "source": [
        "from gensim.models.keyedvectors import KeyedVectors\n",
        "wv_embeddings = KeyedVectors.load_word2vec_format(\"SO_vectors_200.bin?download=1\", binary=True)"
      ],
      "execution_count": 14,
      "outputs": []
    },
    {
      "cell_type": "markdown",
      "metadata": {
        "id": "aIcT_g-C6j1E"
      },
      "source": [
        "#### Как пользоваться этими векторами?"
      ]
    },
    {
      "cell_type": "markdown",
      "metadata": {
        "id": "DWO5SPDY6j1G"
      },
      "source": [
        "Посмотрим на примере одного слова, что из себя представляет embedding"
      ]
    },
    {
      "cell_type": "code",
      "metadata": {
        "scrolled": true,
        "id": "KeSBlQfk6j1J",
        "colab": {
          "base_uri": "https://localhost:8080/"
        },
        "outputId": "a64ef498-b9c4-4f3f-bf63-96d92616b2b8"
      },
      "source": [
        "word = 'dog'\n",
        "if word in wv_embeddings:\n",
        "    print(wv_embeddings[word].dtype, wv_embeddings[word].shape)"
      ],
      "execution_count": 15,
      "outputs": [
        {
          "output_type": "stream",
          "name": "stdout",
          "text": [
            "float32 (200,)\n"
          ]
        }
      ]
    },
    {
      "cell_type": "code",
      "metadata": {
        "id": "T4Eq-D1qxpMJ",
        "colab": {
          "base_uri": "https://localhost:8080/"
        },
        "outputId": "88bfedfa-e2c2-4d30-a3f5-c58739833b83"
      },
      "source": [
        "print(f\"Num of words: {len(wv_embeddings.index_to_key)}\")"
      ],
      "execution_count": 16,
      "outputs": [
        {
          "output_type": "stream",
          "name": "stdout",
          "text": [
            "Num of words: 1787145\n"
          ]
        }
      ]
    },
    {
      "cell_type": "markdown",
      "metadata": {
        "id": "ZT6NTCys6j1Q"
      },
      "source": [
        "Найдем наиболее близкие слова к слову `dog`:"
      ]
    },
    {
      "cell_type": "markdown",
      "metadata": {
        "id": "n08z2PjMwC5o"
      },
      "source": [
        "#### ***Вопрос 1:***\n",
        "* Входит ли слово `cat` в топ-5 близких слов к слову `dog`? Какое место оно занимает?\n"
      ]
    },
    {
      "cell_type": "code",
      "metadata": {
        "scrolled": true,
        "id": "nYwVz0xG6j1U",
        "colab": {
          "base_uri": "https://localhost:8080/"
        },
        "outputId": "1458120c-1fea-41bb-a9ae-6d26b7232f68"
      },
      "source": [
        "# method most_simmilar\n",
        "'''your code'''\n",
        "\n",
        "similar_words = wv_embeddings.most_similar('dog', topn=5)\n",
        "\n",
        "for word, similar in similar_words:\n",
        "  print(f'{word}: {similar}')\n"
      ],
      "execution_count": 17,
      "outputs": [
        {
          "output_type": "stream",
          "name": "stdout",
          "text": [
            "animal: 0.8564180135726929\n",
            "dogs: 0.7880866527557373\n",
            "mammal: 0.7623804211616516\n",
            "cats: 0.7621253728866577\n",
            "animals: 0.760793924331665\n"
          ]
        }
      ]
    },
    {
      "cell_type": "markdown",
      "source": [
        "***Ваш ответ:*** Как мы видим 'cat' не входит в топ-5 ближайших слов к 'dog', но что интересно так это то, что есть слово 'cats', которое ближе к слову 'dog', чем слово 'cat'"
      ],
      "metadata": {
        "id": "7Wu7O43AY5jH"
      }
    },
    {
      "cell_type": "markdown",
      "metadata": {
        "id": "ai48-5vv6j1d"
      },
      "source": [
        "### Векторные представления текста\n",
        "\n",
        "Перейдем от векторных представлений отдельных слов к векторным представлениям вопросов, как к **среднему** векторов всех слов в вопросе. Если для какого-то слова нет предобученного вектора, то его нужно пропустить. Если вопрос не содержит ни одного известного слова, то нужно вернуть нулевой вектор."
      ]
    },
    {
      "cell_type": "code",
      "source": [
        "!pip install nltk\n",
        "import nltk\n",
        "nltk.download('stopwords')"
      ],
      "metadata": {
        "colab": {
          "base_uri": "https://localhost:8080/"
        },
        "id": "N17AjTgttnCD",
        "outputId": "14b1f168-a5ef-4504-d40b-b73c422d2fdd"
      },
      "execution_count": 18,
      "outputs": [
        {
          "output_type": "stream",
          "name": "stdout",
          "text": [
            "Requirement already satisfied: nltk in /usr/local/lib/python3.11/dist-packages (3.9.1)\n",
            "Requirement already satisfied: click in /usr/local/lib/python3.11/dist-packages (from nltk) (8.1.8)\n",
            "Requirement already satisfied: joblib in /usr/local/lib/python3.11/dist-packages (from nltk) (1.4.2)\n",
            "Requirement already satisfied: regex>=2021.8.3 in /usr/local/lib/python3.11/dist-packages (from nltk) (2024.11.6)\n",
            "Requirement already satisfied: tqdm in /usr/local/lib/python3.11/dist-packages (from nltk) (4.67.1)\n"
          ]
        },
        {
          "output_type": "stream",
          "name": "stderr",
          "text": [
            "[nltk_data] Downloading package stopwords to /root/nltk_data...\n",
            "[nltk_data]   Unzipping corpora/stopwords.zip.\n"
          ]
        },
        {
          "output_type": "execute_result",
          "data": {
            "text/plain": [
              "True"
            ]
          },
          "metadata": {},
          "execution_count": 18
        }
      ]
    },
    {
      "cell_type": "code",
      "metadata": {
        "id": "EhNuxBJd6j1f",
        "colab": {
          "base_uri": "https://localhost:8080/"
        },
        "outputId": "181c5c4b-49e0-4b98-c8c0-64f9cf6a9a27"
      },
      "source": [
        "import numpy as np\n",
        "import re\n",
        "from nltk.corpus import stopwords\n",
        "\n",
        "# you can use your tokenizer\n",
        "# for example, from nltk.tokenize import WordPunctTokenizer\n",
        "\n",
        "class MyTokenizer:\n",
        "    def __init__(self):\n",
        "        self.stop_words = set(stopwords.words('english'))\n",
        "\n",
        "    def tokenize(self, text):\n",
        "        words = re.findall(r\"\\b\\w+(?:[-']\\w+)*\\b\", text.lower())\n",
        "        return [word for word in words if word not in self.stop_words]\n",
        "\n",
        "tokenizer = MyTokenizer()\n",
        "text = \"Hello, world! This is a state-of-the-art test: 123, abc_def. Do'nt worry!\"\n",
        "tokens = tokenizer.tokenize(text)\n",
        "print(tokens)"
      ],
      "execution_count": 19,
      "outputs": [
        {
          "output_type": "stream",
          "name": "stdout",
          "text": [
            "['hello', 'world', 'state-of-the-art', 'test', '123', 'abc_def', \"do'nt\", 'worry']\n"
          ]
        }
      ]
    },
    {
      "cell_type": "markdown",
      "source": [
        "В данном случае написал собственный токенайзер, который учитывает стоп слова из английского языка и также слова с доп знаками по типу - _ '"
      ],
      "metadata": {
        "id": "dp_bMHO1v7nk"
      }
    },
    {
      "cell_type": "code",
      "metadata": {
        "id": "YHcvu6186j1m"
      },
      "source": [
        "def question_to_vec(question, embeddings, tokenizer, dim=200):\n",
        "    \"\"\"\n",
        "        question: строка\n",
        "        embeddings: наше векторное представление\n",
        "        tokenizer: токенайзер для разбиения предложения на токены\n",
        "        dim: размер любого вектора в нашем представлении\n",
        "\n",
        "        return: векторное представление для вопроса\n",
        "    \"\"\"\n",
        "\n",
        "    '''your code'''\n",
        "\n",
        "    words = tokenizer.tokenize(question)\n",
        "\n",
        "    question_vec = np.zeros(dim)\n",
        "\n",
        "    valid_words = 0\n",
        "\n",
        "    for word in words:\n",
        "      if word in embeddings:\n",
        "        question_vec += embeddings[word]\n",
        "        valid_words += 1\n",
        "\n",
        "    if valid_words > 0:\n",
        "      question_vec /= valid_words\n",
        "    return question_vec"
      ],
      "execution_count": 20,
      "outputs": []
    },
    {
      "cell_type": "markdown",
      "metadata": {
        "id": "u5Q_4j7r6j1u"
      },
      "source": [
        "Теперь у нас есть метод для создания векторного представления любого предложения."
      ]
    },
    {
      "cell_type": "markdown",
      "metadata": {
        "id": "EsJSNkhm6j1y"
      },
      "source": [
        "#### ***Вопрос 2:***\n",
        "\n",
        "* Какая третья (с индексом 2) компонента вектора предложения `I love neural networks` (округлите до 2 знаков после запятой)?"
      ]
    },
    {
      "cell_type": "code",
      "metadata": {
        "scrolled": true,
        "id": "a62r11cT6j10",
        "colab": {
          "base_uri": "https://localhost:8080/"
        },
        "outputId": "31264bcf-3909-4430-d723-6f7d211b9def"
      },
      "source": [
        "# Предложение\n",
        "question = \"I love neural networks\"\n",
        "\n",
        "'''your code'''\n",
        "print(round(question_to_vec(question, wv_embeddings, tokenizer)[2], 2))"
      ],
      "execution_count": 21,
      "outputs": [
        {
          "output_type": "stream",
          "name": "stdout",
          "text": [
            "-1.29\n"
          ]
        }
      ]
    },
    {
      "cell_type": "markdown",
      "source": [
        "Ответ:\n",
        "Запускаем нашу функцию предложение - вектор и получаем, что 3 компонента вектора предложения будет -1.29\n"
      ],
      "metadata": {
        "id": "wGNTG18dY73d"
      }
    },
    {
      "cell_type": "markdown",
      "metadata": {
        "id": "Y60z4t6W6j16"
      },
      "source": [
        "### Оценка близости текстов\n",
        "\n",
        "Представим, что мы используем идеальные векторные представления слов. Тогда косинусное расстояние между дублирующими предложениями должно быть меньше, чем между случайно взятыми предложениями.\n",
        "\n",
        "Сгенерируем для каждого из $N$ вопросов $R$ случайных отрицательных примеров и примешаем к ним также настоящие дубликаты. Для каждого вопроса будем ранжировать с помощью нашей модели $R + 1$ примеров и смотреть на позицию дубликата. Мы хотим, чтобы дубликат был первым в ранжированном списке.\n",
        "\n",
        "#### Hits@K\n",
        "Первой простой метрикой будет количество корректных попаданий для какого-то $K$:\n",
        "$$ \\text{Hits@K} = \\frac{1}{N}\\sum_{i=1}^N \\, [rank\\_q_i^{'} \\le K],$$\n",
        "* $\\begin{equation*}\n",
        "[x < 0 ] \\equiv\n",
        " \\begin{cases}\n",
        "   1, &x < 0\\\\\n",
        "   0, &x \\geq 0\n",
        " \\end{cases}\n",
        "\\end{equation*}$ - индикаторная функция\n",
        "* $q_i$ - $i$-ый вопрос\n",
        "* $q_i^{'}$ - его дубликат\n",
        "* $rank\\_q_i^{'}$ - позиция дубликата в ранжированном списке ближайших предложений для вопроса $q_i$.\n",
        "\n",
        "Hits@K  измеряет долю вопросов, для которых правильный ответ попал в топ-K позиций среди отранжированных кандидатов.\n",
        "\n",
        "#### DCG@K\n",
        "Второй метрикой будет упрощенная DCG метрика, учитывающая порядок элементов в списке путем домножения релевантности элемента на вес равный обратному логарифму номера позиции::\n",
        "$$ \\text{DCG@K} = \\frac{1}{N} \\sum_{i=1}^N\\frac{1}{\\log_2(1+rank\\_q_i^{'})}\\cdot[rank\\_q_i^{'} \\le K],$$\n",
        "С такой метрикой модель штрафуется за большой ранк корректного ответа.\n",
        "\n",
        "DCG@K  измеряет качество ранжирования, учитывая не только факт наличия правильного ответа в топ-K, но и ***его точную позицию***."
      ]
    },
    {
      "cell_type": "markdown",
      "metadata": {
        "id": "_tFemBkP6j1-"
      },
      "source": [
        "<img src='https://hsto.org/files/1c5/edf/dee/1c5edfdeebce4b71a86bdf986d9f88f2.jpg' width=400, height=200>"
      ]
    },
    {
      "cell_type": "markdown",
      "metadata": {
        "id": "0sUSxk866j1_"
      },
      "source": [
        "#### Пример оценок\n",
        "\n",
        "Вычислим описанные выше метрики для игрушечного примера.\n",
        "Пусть\n",
        "* $N = 1$, $R = 3$\n",
        "* <font color='green'>\"Что такое python?\"</font> - вопрос $q_1$\n",
        "* <font color='red'>\"Что такое язык python?\"</font> - его дубликат $q_i^{'}$\n",
        "\n",
        "Пусть модель выдала следующий ранжированный список кандидатов:\n",
        "\n",
        "1. \"Как изучить с++?\"\n",
        "2. <font color='red'>\"Что такое язык python?\"</font>\n",
        "3. \"Хочу учить Java\"\n",
        "4. \"Не понимаю Tensorflow\"\n",
        "\n",
        "$\\Rightarrow rank\\_q_i^{'} = 2$"
      ]
    },
    {
      "cell_type": "markdown",
      "source": [
        "Вычислим метрику *Hits@K* для *K = 1, 4*:\n",
        "\n",
        "- [K = 1] $\\text{Hits@1} =  [rank\\_q_i^{'} \\le 1]$\n",
        "\n",
        "Проверяем условие $ \\text{rank}_{q'_1} \\leq 1 $: ***условие неверно***.\n",
        "\n",
        "Следовательно, $[\\text{rank}_{q'_1} \\leq 1] = 0$.\n",
        "\n",
        "- [K = 4] $\\text{Hits@4} =  [rank\\_q_i^{'} \\le 4] = 1$\n",
        "\n",
        "Проверяем условие $ \\text{rank}_{q'_1} \\leq 4 $: ***условие верно***."
      ],
      "metadata": {
        "id": "-XXCbN3uUiHU"
      }
    },
    {
      "cell_type": "markdown",
      "source": [
        "Вычислим метрику *DCG@K* для *K = 1, 4*:\n",
        "- [K = 1] $\\text{DCG@1} = \\frac{1}{\\log_2(1+2)}\\cdot[2 \\le 1] = 0$\n",
        "- [K = 4] $\\text{DCG@4} = \\frac{1}{\\log_2(1+2)}\\cdot[2 \\le 4] = \\frac{1}{\\log_2{3}}$"
      ],
      "metadata": {
        "id": "Ya9gf-dvVGmm"
      }
    },
    {
      "cell_type": "markdown",
      "metadata": {
        "id": "B4L6HJJC6j2B"
      },
      "source": [
        "#### ***Вопрос 3***:\n",
        "* Вычислите `DCG@10`, если $rank\\_q_i^{'} = 9$(округлите до одного знака после запятой)\n",
        "\n"
      ]
    },
    {
      "cell_type": "markdown",
      "source": [
        "Дано:\n",
        "K = 10, rank_q'i = 9\n",
        "Тогда получим 1/log_2(1 + 9) * [9 <= 10] -> условие выполняется, тогда получаем 1/log_2(10)  = 0.3"
      ],
      "metadata": {
        "id": "l_dSBkmb3Ztq"
      }
    },
    {
      "cell_type": "markdown",
      "source": [
        "#### Более сложный пример оценок\n",
        "\n",
        "Рассмотрим пример с $ N > 1 $, где $ N = 3 $ (три вопроса) и для каждого вопроса заданы позиции их дубликатов. Вычислим метрики **Hits@K** для разных значений $ K $.\n",
        "\n",
        "---\n",
        "\n",
        "- $ N = 3 $: Три вопроса ($ q_1, q_2, q_3 $).\n",
        "- Для каждого вопроса известна позиция его дубликата ($ \\text{rank}_{q'_i} $):\n",
        "  - $ \\text{rank}_{q'_1} = 2 $,\n",
        "  - $ \\text{rank}_{q'_2} = 5 $,\n",
        "  - $ \\text{rank}_{q'_3} = 1 $.\n",
        "\n",
        "Мы будем вычислять **Hits@K** для $ K = 1, 5 $.\n",
        "\n",
        "---\n",
        "\n",
        "**Для $ K = 1 $:**\n",
        "\n",
        "Подставим значения:\n",
        "$$\n",
        "\\text{Hits@1} = \\frac{1}{3} \\cdot \\left( [\\text{rank}_{q'_1} \\leq 1] + [\\text{rank}_{q'_2} \\leq 1] + [\\text{rank}_{q'_3} \\leq 1] \\right).\n",
        "$$\n",
        "\n",
        "Проверяем условие $ \\text{rank}_{q'_i} \\leq 1 $ для каждого вопроса:\n",
        "- $ \\text{rank}_{q'_1} = 2 $ → $ 2 \\not\\leq 1 $ → $ 0 $,\n",
        "- $ \\text{rank}_{q'_2} = 5 $ → $ 5 \\not\\leq 1 $ → $ 0 $,\n",
        "- $ \\text{rank}_{q'_3} = 1 $ → $ 1 \\leq 1 $ → $ 1 $.\n",
        "\n",
        "Сумма:\n",
        "$$\n",
        "\\text{Hits@1} = \\frac{1}{3} \\cdot (0 + 0 + 1) = \\frac{1}{3}.\n",
        "$$\n",
        "\n",
        "$$\n",
        "\\boxed{\\text{Hits@1} = \\frac{1}{3}}.\n",
        "$$\n",
        "\n",
        "---\n",
        "\n",
        "**Для $ K = 5 $:**\n",
        "\n",
        "Подставим значения:\n",
        "$$\n",
        "\\text{Hits@5} = \\frac{1}{3} \\cdot \\left( [\\text{rank}_{q'_1} \\leq 5] + [\\text{rank}_{q'_2} \\leq 5] + [\\text{rank}_{q'_3} \\leq 5] \\right).\n",
        "$$\n",
        "\n",
        "Проверяем условие $ \\text{rank}_{q'_i} \\leq 5 $ для каждого вопроса:\n",
        "- $ \\text{rank}_{q'_1} = 2 $ → $ 2 \\leq 5 $ → $ 1 $,\n",
        "- $ \\text{rank}_{q'_2} = 5 $ → $ 5 \\leq 5 $ → $ 1 $,\n",
        "- $ \\text{rank}_{q'_3} = 1 $ → $ 1 \\leq 5 $ → $ 1 $.\n",
        "\n",
        "Сумма:\n",
        "$$\n",
        "\\text{Hits@5} = \\frac{1}{3} \\cdot (1 + 1 + 1) = 1.\n",
        "$$\n",
        "\n",
        "$$\n",
        "\\boxed{\\text{Hits@5} = 1}.\n",
        "$$"
      ],
      "metadata": {
        "id": "hM1PtUq3haNS"
      }
    },
    {
      "cell_type": "markdown",
      "source": [
        "Теперь вычислим метрику **DCG@K** для того же примера, где $ N = 3 $ (три вопроса), и для каждого вопроса известна позиция его дубликата ($ \\text{rank}_{q'_i} $):\n",
        "\n",
        "- $ \\text{rank}_{q'_1} = 2 $,\n",
        "- $ \\text{rank}_{q'_2} = 5 $,\n",
        "- $ \\text{rank}_{q'_3} = 1 $.\n",
        "\n",
        "Мы будем вычислять **DCG@K** для $ K = 1, 5 $.\n",
        "\n",
        "---\n",
        "**Для $ K = 1 $:**\n",
        "Подставим значения:\n",
        "$$\n",
        "\\text{DCG@1} = \\frac{1}{3} \\cdot \\left( \\frac{1}{\\log_2(1 + \\text{rank}_{q'_1})} \\cdot [\\text{rank}_{q'_1} \\leq 1] + \\frac{1}{\\log_2(1 + \\text{rank}_{q'_2})} \\cdot [\\text{rank}_{q'_2} \\leq 1] + \\frac{1}{\\log_2(1 + \\text{rank}_{q'_3})} \\cdot [\\text{rank}_{q'_3} \\leq 1] \\right).\n",
        "$$\n",
        "\n",
        "Проверяем условие $ \\text{rank}_{q'_i} \\leq 1 $ для каждого вопроса:\n",
        "- $ \\text{rank}_{q'_1} = 2 $ → $ 2 \\not\\leq 1 $ → $ 0 $,\n",
        "- $ \\text{rank}_{q'_2} = 5 $ → $ 5 \\not\\leq 1 $ → $ 0 $,\n",
        "- $ \\text{rank}_{q'_3} = 1 $ → $ 1 \\leq 1 $ → $ 1 $.\n",
        "\n",
        "Сумма:\n",
        "$$\n",
        "\\text{DCG@1} = \\frac{1}{3} \\cdot (0 + 0 + 1) = \\frac{1}{3}.\n",
        "$$\n",
        "$$\n",
        "\\boxed{\\text{DCG@1} = \\frac{1}{3}}.\n",
        "$$\n",
        "\n",
        "---\n",
        "\n",
        "\n",
        "**Для $ K = 5 $:**\n",
        "Подставим значения:\n",
        "$$\n",
        "\\text{DCG@5} = \\frac{1}{3} \\cdot \\left( \\frac{1}{\\log_2(1 + \\text{rank}_{q'_1})} \\cdot [\\text{rank}_{q'_1} \\leq 5] + \\frac{1}{\\log_2(1 + \\text{rank}_{q'_2})} \\cdot [\\text{rank}_{q'_2} \\leq 5] + \\frac{1}{\\log_2(1 + \\text{rank}_{q'_3})} \\cdot [\\text{rank}_{q'_3} \\leq 5] \\right).\n",
        "$$\n",
        "\n",
        "Проверяем условие $ \\text{rank}_{q'_i} \\leq 5 $ для каждого вопроса:\n",
        "- $ \\text{rank}_{q'_1} = 2 $ → $ 2 \\leq 5 $ → $ 1 $,\n",
        "- $ \\text{rank}_{q'_2} = 5 $ → $ 5 \\leq 5 $ → $ 1 $,\n",
        "- $ \\text{rank}_{q'_3} = 1 $ → $ 1 \\leq 5 $ → $ 1 $.\n",
        "\n",
        "Сумма:\n",
        "$$\n",
        "\\text{DCG@5} = \\frac{1}{3} \\cdot (0.631 + 0.387 + 1) = \\frac{1}{3} \\cdot 2.018 \\approx 0.673.\n",
        "$$\n",
        "\n",
        "$$\n",
        "\\boxed{\\text{DCG@5} \\approx 0.673}.\n",
        "$$"
      ],
      "metadata": {
        "id": "ngfvO7JsqROf"
      }
    },
    {
      "cell_type": "markdown",
      "metadata": {
        "id": "eHCnH-jw6j18"
      },
      "source": [
        "#### ***Вопрос 4:***\n",
        "* Найдите максимум `Hits@47 - DCG@1`?\n",
        "\n"
      ]
    },
    {
      "cell_type": "markdown",
      "source": [
        "По сути максимумом тут будет 1, за счет того, что при выписывании формул для нахождения максимума нужно знать значение rank_q'i. Чтобы найти максимум нужно взять такое значение rank_q'i при котором одно условие будет выполняться, а другое нет. При rank_q'i = 1 мы получим 0, а вот при rank_q'i = 2 мы получим 1, так как DCG@1 будет равно 0, ведь не выполняется условие. Если брать значение меньше 1, то мы получим 0, если возьмем значения больше 1, то до 47 мы будем получать 1, а при rank_q'i > 47 мы будем получать опять 0, так как теперь оба условия не выполняются\n",
        "Ответ: 1\n"
      ],
      "metadata": {
        "id": "naiccA354soq"
      }
    },
    {
      "cell_type": "markdown",
      "metadata": {
        "id": "J5xWOORI6j2F"
      },
      "source": [
        "### HITS\\_COUNT и DCG\\_SCORE"
      ]
    },
    {
      "cell_type": "markdown",
      "metadata": {
        "id": "I1q9WQOx6j2H"
      },
      "source": [
        "Каждая функция имеет два аргумента: $dup\\_ranks$ и $k$.\n",
        "\n",
        "$dup\\_ranks$ является списком, который содержит рейтинги дубликатов (их позиции в ранжированном списке).\n",
        "\n",
        "К примеру для <font color='red'>\"Что такое язык python?\"</font> $dup\\_ranks = [2]$."
      ]
    },
    {
      "cell_type": "code",
      "metadata": {
        "id": "F5VwySUB6j2J"
      },
      "source": [
        "def hits_count(dup_ranks, k):\n",
        "    \"\"\"\n",
        "        dup_ranks: list индексов дубликатов\n",
        "        k: пороговое значение для ранга\n",
        "        result: вернуть Hits@k\n",
        "    \"\"\"\n",
        "    # Подсчитываем количество дубликатов, чей ранг <= k\n",
        "    count = 0\n",
        "    for i in range(len(dup_ranks)):\n",
        "      if dup_ranks[i] <= k:\n",
        "        count += 1\n",
        "    hits_value = (1/len(dup_ranks)) * count\n",
        "    return count\n"
      ],
      "execution_count": 22,
      "outputs": []
    },
    {
      "cell_type": "code",
      "source": [
        "dup_ranks = [2]\n",
        "\n",
        "k = 1\n",
        "hits_value = hits_count(dup_ranks, k)\n",
        "print(f\"Hits@1 = {hits_value}\")\n",
        "\n",
        "k = 4\n",
        "hits_value = hits_count(dup_ranks, k)\n",
        "print(f\"Hits@4 = {hits_value}\")"
      ],
      "metadata": {
        "id": "vSjm_5eWYVYI",
        "colab": {
          "base_uri": "https://localhost:8080/"
        },
        "outputId": "b85566e2-13fb-42f6-f084-90c981b51023"
      },
      "execution_count": 23,
      "outputs": [
        {
          "output_type": "stream",
          "name": "stdout",
          "text": [
            "Hits@1 = 0\n",
            "Hits@4 = 1\n"
          ]
        }
      ]
    },
    {
      "cell_type": "code",
      "metadata": {
        "id": "82hQaxCH6j2R"
      },
      "source": [
        "import math\n",
        "\n",
        "def dcg_score(dup_ranks, k):\n",
        "    \"\"\"\n",
        "        dup_ranks: list индексов дубликатов\n",
        "        k: пороговое значение для ранга\n",
        "        result: вернуть DCG@k\n",
        "    \"\"\"\n",
        "    # Вычисляем сумму для всех релевантных дубликатов\n",
        "    '''your code'''\n",
        "    dcg = []\n",
        "    for i in range(len(dup_ranks)):\n",
        "      if dup_ranks[i] <= k:\n",
        "        dcg_value_i = (1 / math.log2(1 + dup_ranks[i]))\n",
        "        dcg.append(dcg_value_i)\n",
        "\n",
        "    # Делим на общее количество вопросов\n",
        "    '''your code'''\n",
        "    dcg_value = sum(dcg) / len(dup_ranks)\n",
        "    return dcg_value"
      ],
      "execution_count": 24,
      "outputs": []
    },
    {
      "cell_type": "code",
      "source": [
        "# Пример списка позиций дубликатов\n",
        "dup_ranks = [2]\n",
        "\n",
        "# Вычисляем DCG@1\n",
        "dcg_value = dcg_score(dup_ranks, k=1)\n",
        "print(f\"DCG@1 = {dcg_value:.3f}\")\n",
        "\n",
        "# Вычисляем DCG@4\n",
        "dcg_value = dcg_score(dup_ranks, k=4)\n",
        "print(f\"DCG@10 = {dcg_value:.3f}\")"
      ],
      "metadata": {
        "id": "OJYsEdx-amB4",
        "colab": {
          "base_uri": "https://localhost:8080/"
        },
        "outputId": "6b6cad2e-bf16-44eb-ad32-202f5a133875"
      },
      "execution_count": 25,
      "outputs": [
        {
          "output_type": "stream",
          "name": "stdout",
          "text": [
            "DCG@1 = 0.000\n",
            "DCG@10 = 0.631\n"
          ]
        }
      ]
    },
    {
      "cell_type": "markdown",
      "metadata": {
        "id": "PcwHeXN26j2Y"
      },
      "source": [
        "Протестируем функции. Пусть $N = 1$, то есть один эксперимент. Будем искать копию вопроса и оценивать метрики."
      ]
    },
    {
      "cell_type": "code",
      "metadata": {
        "id": "fjISmOEW6j2h"
      },
      "source": [
        "import pandas as pd\n",
        "import numpy as np"
      ],
      "execution_count": 26,
      "outputs": []
    },
    {
      "cell_type": "code",
      "metadata": {
        "id": "gLa_Wqfh6j2m",
        "colab": {
          "base_uri": "https://localhost:8080/"
        },
        "outputId": "16d59c6a-21c4-44a4-e803-c8acd3bdf6ec"
      },
      "source": [
        "copy_answers = [\"How does the catch keyword determine the type of exception that was thrown\",]\n",
        "\n",
        "# наши кандидаты\n",
        "candidates_ranking = [[\"How Can I Make These Links Rotate in PHP\",\n",
        "                       \"How does the catch keyword determine the type of exception that was thrown\",\n",
        "                       \"NSLog array description not memory address\",\n",
        "                       \"PECL_HTTP not recognised php ubuntu\"],]\n",
        "\n",
        "# dup_ranks — позиции наших копий, так как эксперимент один, то этот массив длины 1\n",
        "dup_ranks = [2]\n",
        "\n",
        "# вычисляем метрику для разных k\n",
        "print('Ваш ответ HIT:', [hits_count(dup_ranks, k) for k in range(1, 5)])\n",
        "print('Ваш ответ DCG:', [round(dcg_score(dup_ranks, k), 5) for k in range(1, 5)])"
      ],
      "execution_count": 27,
      "outputs": [
        {
          "output_type": "stream",
          "name": "stdout",
          "text": [
            "Ваш ответ HIT: [0, 1, 1, 1]\n",
            "Ваш ответ DCG: [0.0, 0.63093, 0.63093, 0.63093]\n"
          ]
        }
      ]
    },
    {
      "cell_type": "markdown",
      "metadata": {
        "id": "MoHC3YoQ6j2t"
      },
      "source": [
        "У вас должно получиться"
      ]
    },
    {
      "cell_type": "code",
      "metadata": {
        "scrolled": true,
        "id": "B0NFWq4f6j2u",
        "colab": {
          "base_uri": "https://localhost:8080/",
          "height": 112
        },
        "outputId": "c84a7fd5-ed98-4211-aae6-94a54fb20467"
      },
      "source": [
        "# correct_answers - метрика для разных k\n",
        "correct_answers = pd.DataFrame([[0, 1, 1, 1], [0, 1 / (np.log2(3)), 1 / (np.log2(3)), 1 / (np.log2(3))]],\n",
        "                               index=['HITS', 'DCG'], columns=range(1,5))\n",
        "correct_answers"
      ],
      "execution_count": 28,
      "outputs": [
        {
          "output_type": "execute_result",
          "data": {
            "text/plain": [
              "      1        2        3        4\n",
              "HITS  0  1.00000  1.00000  1.00000\n",
              "DCG   0  0.63093  0.63093  0.63093"
            ],
            "text/html": [
              "\n",
              "  <div id=\"df-bc723631-1f3f-4081-b5ac-9421a2282f40\" class=\"colab-df-container\">\n",
              "    <div>\n",
              "<style scoped>\n",
              "    .dataframe tbody tr th:only-of-type {\n",
              "        vertical-align: middle;\n",
              "    }\n",
              "\n",
              "    .dataframe tbody tr th {\n",
              "        vertical-align: top;\n",
              "    }\n",
              "\n",
              "    .dataframe thead th {\n",
              "        text-align: right;\n",
              "    }\n",
              "</style>\n",
              "<table border=\"1\" class=\"dataframe\">\n",
              "  <thead>\n",
              "    <tr style=\"text-align: right;\">\n",
              "      <th></th>\n",
              "      <th>1</th>\n",
              "      <th>2</th>\n",
              "      <th>3</th>\n",
              "      <th>4</th>\n",
              "    </tr>\n",
              "  </thead>\n",
              "  <tbody>\n",
              "    <tr>\n",
              "      <th>HITS</th>\n",
              "      <td>0</td>\n",
              "      <td>1.00000</td>\n",
              "      <td>1.00000</td>\n",
              "      <td>1.00000</td>\n",
              "    </tr>\n",
              "    <tr>\n",
              "      <th>DCG</th>\n",
              "      <td>0</td>\n",
              "      <td>0.63093</td>\n",
              "      <td>0.63093</td>\n",
              "      <td>0.63093</td>\n",
              "    </tr>\n",
              "  </tbody>\n",
              "</table>\n",
              "</div>\n",
              "    <div class=\"colab-df-buttons\">\n",
              "\n",
              "  <div class=\"colab-df-container\">\n",
              "    <button class=\"colab-df-convert\" onclick=\"convertToInteractive('df-bc723631-1f3f-4081-b5ac-9421a2282f40')\"\n",
              "            title=\"Convert this dataframe to an interactive table.\"\n",
              "            style=\"display:none;\">\n",
              "\n",
              "  <svg xmlns=\"http://www.w3.org/2000/svg\" height=\"24px\" viewBox=\"0 -960 960 960\">\n",
              "    <path d=\"M120-120v-720h720v720H120Zm60-500h600v-160H180v160Zm220 220h160v-160H400v160Zm0 220h160v-160H400v160ZM180-400h160v-160H180v160Zm440 0h160v-160H620v160ZM180-180h160v-160H180v160Zm440 0h160v-160H620v160Z\"/>\n",
              "  </svg>\n",
              "    </button>\n",
              "\n",
              "  <style>\n",
              "    .colab-df-container {\n",
              "      display:flex;\n",
              "      gap: 12px;\n",
              "    }\n",
              "\n",
              "    .colab-df-convert {\n",
              "      background-color: #E8F0FE;\n",
              "      border: none;\n",
              "      border-radius: 50%;\n",
              "      cursor: pointer;\n",
              "      display: none;\n",
              "      fill: #1967D2;\n",
              "      height: 32px;\n",
              "      padding: 0 0 0 0;\n",
              "      width: 32px;\n",
              "    }\n",
              "\n",
              "    .colab-df-convert:hover {\n",
              "      background-color: #E2EBFA;\n",
              "      box-shadow: 0px 1px 2px rgba(60, 64, 67, 0.3), 0px 1px 3px 1px rgba(60, 64, 67, 0.15);\n",
              "      fill: #174EA6;\n",
              "    }\n",
              "\n",
              "    .colab-df-buttons div {\n",
              "      margin-bottom: 4px;\n",
              "    }\n",
              "\n",
              "    [theme=dark] .colab-df-convert {\n",
              "      background-color: #3B4455;\n",
              "      fill: #D2E3FC;\n",
              "    }\n",
              "\n",
              "    [theme=dark] .colab-df-convert:hover {\n",
              "      background-color: #434B5C;\n",
              "      box-shadow: 0px 1px 3px 1px rgba(0, 0, 0, 0.15);\n",
              "      filter: drop-shadow(0px 1px 2px rgba(0, 0, 0, 0.3));\n",
              "      fill: #FFFFFF;\n",
              "    }\n",
              "  </style>\n",
              "\n",
              "    <script>\n",
              "      const buttonEl =\n",
              "        document.querySelector('#df-bc723631-1f3f-4081-b5ac-9421a2282f40 button.colab-df-convert');\n",
              "      buttonEl.style.display =\n",
              "        google.colab.kernel.accessAllowed ? 'block' : 'none';\n",
              "\n",
              "      async function convertToInteractive(key) {\n",
              "        const element = document.querySelector('#df-bc723631-1f3f-4081-b5ac-9421a2282f40');\n",
              "        const dataTable =\n",
              "          await google.colab.kernel.invokeFunction('convertToInteractive',\n",
              "                                                    [key], {});\n",
              "        if (!dataTable) return;\n",
              "\n",
              "        const docLinkHtml = 'Like what you see? Visit the ' +\n",
              "          '<a target=\"_blank\" href=https://colab.research.google.com/notebooks/data_table.ipynb>data table notebook</a>'\n",
              "          + ' to learn more about interactive tables.';\n",
              "        element.innerHTML = '';\n",
              "        dataTable['output_type'] = 'display_data';\n",
              "        await google.colab.output.renderOutput(dataTable, element);\n",
              "        const docLink = document.createElement('div');\n",
              "        docLink.innerHTML = docLinkHtml;\n",
              "        element.appendChild(docLink);\n",
              "      }\n",
              "    </script>\n",
              "  </div>\n",
              "\n",
              "\n",
              "<div id=\"df-4bf0c11f-3426-4551-8743-0891da423061\">\n",
              "  <button class=\"colab-df-quickchart\" onclick=\"quickchart('df-4bf0c11f-3426-4551-8743-0891da423061')\"\n",
              "            title=\"Suggest charts\"\n",
              "            style=\"display:none;\">\n",
              "\n",
              "<svg xmlns=\"http://www.w3.org/2000/svg\" height=\"24px\"viewBox=\"0 0 24 24\"\n",
              "     width=\"24px\">\n",
              "    <g>\n",
              "        <path d=\"M19 3H5c-1.1 0-2 .9-2 2v14c0 1.1.9 2 2 2h14c1.1 0 2-.9 2-2V5c0-1.1-.9-2-2-2zM9 17H7v-7h2v7zm4 0h-2V7h2v10zm4 0h-2v-4h2v4z\"/>\n",
              "    </g>\n",
              "</svg>\n",
              "  </button>\n",
              "\n",
              "<style>\n",
              "  .colab-df-quickchart {\n",
              "      --bg-color: #E8F0FE;\n",
              "      --fill-color: #1967D2;\n",
              "      --hover-bg-color: #E2EBFA;\n",
              "      --hover-fill-color: #174EA6;\n",
              "      --disabled-fill-color: #AAA;\n",
              "      --disabled-bg-color: #DDD;\n",
              "  }\n",
              "\n",
              "  [theme=dark] .colab-df-quickchart {\n",
              "      --bg-color: #3B4455;\n",
              "      --fill-color: #D2E3FC;\n",
              "      --hover-bg-color: #434B5C;\n",
              "      --hover-fill-color: #FFFFFF;\n",
              "      --disabled-bg-color: #3B4455;\n",
              "      --disabled-fill-color: #666;\n",
              "  }\n",
              "\n",
              "  .colab-df-quickchart {\n",
              "    background-color: var(--bg-color);\n",
              "    border: none;\n",
              "    border-radius: 50%;\n",
              "    cursor: pointer;\n",
              "    display: none;\n",
              "    fill: var(--fill-color);\n",
              "    height: 32px;\n",
              "    padding: 0;\n",
              "    width: 32px;\n",
              "  }\n",
              "\n",
              "  .colab-df-quickchart:hover {\n",
              "    background-color: var(--hover-bg-color);\n",
              "    box-shadow: 0 1px 2px rgba(60, 64, 67, 0.3), 0 1px 3px 1px rgba(60, 64, 67, 0.15);\n",
              "    fill: var(--button-hover-fill-color);\n",
              "  }\n",
              "\n",
              "  .colab-df-quickchart-complete:disabled,\n",
              "  .colab-df-quickchart-complete:disabled:hover {\n",
              "    background-color: var(--disabled-bg-color);\n",
              "    fill: var(--disabled-fill-color);\n",
              "    box-shadow: none;\n",
              "  }\n",
              "\n",
              "  .colab-df-spinner {\n",
              "    border: 2px solid var(--fill-color);\n",
              "    border-color: transparent;\n",
              "    border-bottom-color: var(--fill-color);\n",
              "    animation:\n",
              "      spin 1s steps(1) infinite;\n",
              "  }\n",
              "\n",
              "  @keyframes spin {\n",
              "    0% {\n",
              "      border-color: transparent;\n",
              "      border-bottom-color: var(--fill-color);\n",
              "      border-left-color: var(--fill-color);\n",
              "    }\n",
              "    20% {\n",
              "      border-color: transparent;\n",
              "      border-left-color: var(--fill-color);\n",
              "      border-top-color: var(--fill-color);\n",
              "    }\n",
              "    30% {\n",
              "      border-color: transparent;\n",
              "      border-left-color: var(--fill-color);\n",
              "      border-top-color: var(--fill-color);\n",
              "      border-right-color: var(--fill-color);\n",
              "    }\n",
              "    40% {\n",
              "      border-color: transparent;\n",
              "      border-right-color: var(--fill-color);\n",
              "      border-top-color: var(--fill-color);\n",
              "    }\n",
              "    60% {\n",
              "      border-color: transparent;\n",
              "      border-right-color: var(--fill-color);\n",
              "    }\n",
              "    80% {\n",
              "      border-color: transparent;\n",
              "      border-right-color: var(--fill-color);\n",
              "      border-bottom-color: var(--fill-color);\n",
              "    }\n",
              "    90% {\n",
              "      border-color: transparent;\n",
              "      border-bottom-color: var(--fill-color);\n",
              "    }\n",
              "  }\n",
              "</style>\n",
              "\n",
              "  <script>\n",
              "    async function quickchart(key) {\n",
              "      const quickchartButtonEl =\n",
              "        document.querySelector('#' + key + ' button');\n",
              "      quickchartButtonEl.disabled = true;  // To prevent multiple clicks.\n",
              "      quickchartButtonEl.classList.add('colab-df-spinner');\n",
              "      try {\n",
              "        const charts = await google.colab.kernel.invokeFunction(\n",
              "            'suggestCharts', [key], {});\n",
              "      } catch (error) {\n",
              "        console.error('Error during call to suggestCharts:', error);\n",
              "      }\n",
              "      quickchartButtonEl.classList.remove('colab-df-spinner');\n",
              "      quickchartButtonEl.classList.add('colab-df-quickchart-complete');\n",
              "    }\n",
              "    (() => {\n",
              "      let quickchartButtonEl =\n",
              "        document.querySelector('#df-4bf0c11f-3426-4551-8743-0891da423061 button');\n",
              "      quickchartButtonEl.style.display =\n",
              "        google.colab.kernel.accessAllowed ? 'block' : 'none';\n",
              "    })();\n",
              "  </script>\n",
              "</div>\n",
              "    </div>\n",
              "  </div>\n"
            ],
            "application/vnd.google.colaboratory.intrinsic+json": {
              "type": "dataframe",
              "variable_name": "correct_answers",
              "summary": "{\n  \"name\": \"correct_answers\",\n  \"rows\": 2,\n  \"fields\": [\n    {\n      \"column\": 1,\n      \"properties\": {\n        \"dtype\": \"number\",\n        \"std\": 0,\n        \"min\": 0,\n        \"max\": 0,\n        \"num_unique_values\": 1,\n        \"samples\": [\n          0\n        ],\n        \"semantic_type\": \"\",\n        \"description\": \"\"\n      }\n    },\n    {\n      \"column\": 2,\n      \"properties\": {\n        \"dtype\": \"number\",\n        \"std\": 0.26097207398381256,\n        \"min\": 0.6309297535714575,\n        \"max\": 1.0,\n        \"num_unique_values\": 2,\n        \"samples\": [\n          0.6309297535714575\n        ],\n        \"semantic_type\": \"\",\n        \"description\": \"\"\n      }\n    },\n    {\n      \"column\": 3,\n      \"properties\": {\n        \"dtype\": \"number\",\n        \"std\": 0.26097207398381256,\n        \"min\": 0.6309297535714575,\n        \"max\": 1.0,\n        \"num_unique_values\": 2,\n        \"samples\": [\n          0.6309297535714575\n        ],\n        \"semantic_type\": \"\",\n        \"description\": \"\"\n      }\n    },\n    {\n      \"column\": 4,\n      \"properties\": {\n        \"dtype\": \"number\",\n        \"std\": 0.26097207398381256,\n        \"min\": 0.6309297535714575,\n        \"max\": 1.0,\n        \"num_unique_values\": 2,\n        \"samples\": [\n          0.6309297535714575\n        ],\n        \"semantic_type\": \"\",\n        \"description\": \"\"\n      }\n    }\n  ]\n}"
            }
          },
          "metadata": {},
          "execution_count": 28
        }
      ]
    },
    {
      "cell_type": "markdown",
      "metadata": {
        "id": "tHZqgDTo6j0i"
      },
      "source": [
        "### Данные\n",
        "[arxiv link](https://drive.google.com/file/d/1QqT4D0EoqJTy7v9VrNCYD-m964XZFR7_/edit)\n",
        "\n",
        "`train.tsv` - выборка для обучения.<br> В каждой строке через табуляцию записаны: **<вопрос>, <похожий вопрос>**\n",
        "\n",
        "`validation.tsv` - тестовая выборка.<br> В каждой строке через табуляцию записаны: **<вопрос>, <похожий вопрос>, <отрицательный пример 1>, <отрицательный пример 2>, ...**"
      ]
    },
    {
      "cell_type": "code",
      "metadata": {
        "id": "jKVK2lDGvrIe",
        "colab": {
          "base_uri": "https://localhost:8080/"
        },
        "outputId": "c318b799-8aff-4b88-8ee0-b007d1c94271"
      },
      "source": [
        "!unzip stackoverflow_similar_questions.zip"
      ],
      "execution_count": 29,
      "outputs": [
        {
          "output_type": "stream",
          "name": "stdout",
          "text": [
            "Archive:  stackoverflow_similar_questions.zip\n",
            "replace data/.DS_Store? [y]es, [n]o, [A]ll, [N]one, [r]ename: y\n",
            "  inflating: data/.DS_Store          \n",
            "replace __MACOSX/data/._.DS_Store? [y]es, [n]o, [A]ll, [N]one, [r]ename: y\n",
            "  inflating: __MACOSX/data/._.DS_Store  \n",
            "replace data/train.tsv? [y]es, [n]o, [A]ll, [N]one, [r]ename: y\n",
            "  inflating: data/train.tsv          \n",
            "replace data/validation.tsv? [y]es, [n]o, [A]ll, [N]one, [r]ename: y\n",
            "  inflating: data/validation.tsv     y\n",
            "\n"
          ]
        }
      ]
    },
    {
      "cell_type": "markdown",
      "metadata": {
        "id": "hil2UsUG6j22"
      },
      "source": [
        "Считайте данные."
      ]
    },
    {
      "cell_type": "code",
      "metadata": {
        "id": "B4EBho8s6j26"
      },
      "source": [
        "def read_corpus(filename):\n",
        "    data = []\n",
        "    with open(filename, encoding='utf-8') as file:\n",
        "        for line in file:\n",
        "            data.append(line.strip().split('\\t'))\n",
        "    return data"
      ],
      "execution_count": 30,
      "outputs": []
    },
    {
      "cell_type": "markdown",
      "metadata": {
        "id": "kkTxY3Mk9_nG"
      },
      "source": [
        "Нам понадобиться только файл validation."
      ]
    },
    {
      "cell_type": "code",
      "metadata": {
        "id": "PTVB9Tnp6j29"
      },
      "source": [
        "validation_data = read_corpus('./data/validation.tsv')"
      ],
      "execution_count": 31,
      "outputs": []
    },
    {
      "cell_type": "markdown",
      "metadata": {
        "id": "bTHfL-9y6j3F"
      },
      "source": [
        "Кол-во строк"
      ]
    },
    {
      "cell_type": "code",
      "metadata": {
        "scrolled": false,
        "id": "z6ubXhIe6j3H",
        "colab": {
          "base_uri": "https://localhost:8080/"
        },
        "outputId": "03f30dbb-85af-403b-92b5-275a3d995a62"
      },
      "source": [
        "len(validation_data)"
      ],
      "execution_count": 32,
      "outputs": [
        {
          "output_type": "execute_result",
          "data": {
            "text/plain": [
              "3760"
            ]
          },
          "metadata": {},
          "execution_count": 32
        }
      ]
    },
    {
      "cell_type": "markdown",
      "metadata": {
        "id": "kaOQblBy6j3M"
      },
      "source": [
        "Размер нескольких первых строк"
      ]
    },
    {
      "cell_type": "code",
      "metadata": {
        "id": "yRx6e-Pe6j3M",
        "colab": {
          "base_uri": "https://localhost:8080/"
        },
        "outputId": "2330644c-9a38-408e-d041-fcddf09d2bc7"
      },
      "source": [
        "for i in range(25):\n",
        "    print(i + 1, len(validation_data[i]))"
      ],
      "execution_count": 33,
      "outputs": [
        {
          "output_type": "stream",
          "name": "stdout",
          "text": [
            "1 1001\n",
            "2 1001\n",
            "3 1001\n",
            "4 1001\n",
            "5 1001\n",
            "6 1001\n",
            "7 1001\n",
            "8 1001\n",
            "9 1001\n",
            "10 1001\n",
            "11 1001\n",
            "12 1001\n",
            "13 1001\n",
            "14 1001\n",
            "15 1001\n",
            "16 1001\n",
            "17 1001\n",
            "18 1001\n",
            "19 1001\n",
            "20 1001\n",
            "21 1001\n",
            "22 1001\n",
            "23 1001\n",
            "24 1001\n",
            "25 1001\n"
          ]
        }
      ]
    },
    {
      "cell_type": "markdown",
      "metadata": {
        "id": "ySQQp0oQt1Ep"
      },
      "source": [
        "### Ранжирование без обучения"
      ]
    },
    {
      "cell_type": "markdown",
      "metadata": {
        "id": "iElEDhj-6j3R"
      },
      "source": [
        "Реализуйте функцию ранжирования кандидатов на основе косинусного расстояния. Функция должна по списку кандидатов вернуть отсортированный список пар (позиция в исходном списке кандидатов, кандидат). При этом позиция кандидата в полученном списке является его рейтингом (первый - лучший). Например, если исходный список кандидатов был [a, b, c], и самый похожий на исходный вопрос среди них - c, затем a, и в конце b, то функция должна вернуть список **[(2, c), (0, a), (1, b)]**."
      ]
    },
    {
      "cell_type": "code",
      "metadata": {
        "id": "K02JARKr6j3T"
      },
      "source": [
        "from sklearn.metrics.pairwise import cosine_similarity\n",
        "from copy import deepcopy"
      ],
      "execution_count": 34,
      "outputs": []
    },
    {
      "cell_type": "code",
      "metadata": {
        "id": "1yP8wJWj6j3X"
      },
      "source": [
        "def rank_candidates(question, candidates, embeddings, tokenizer, dim=200):\n",
        "    \"\"\"\n",
        "        question: строка\n",
        "        candidates: массив строк(кандидатов) [a, b, c]\n",
        "        result: пары (начальная позиция, кандидат) [(2, c), (0, a), (1, b)]\n",
        "    \"\"\"\n",
        "    '''your code'''\n",
        "    def get_embeddings_from_text(text):\n",
        "      text_tokens = tokenizer.tokenize(text)\n",
        "      vectors = []\n",
        "      for token in text_tokens:\n",
        "        if token in embeddings:\n",
        "          vectors.append(embeddings[token])\n",
        "      if len(vectors) == 0:\n",
        "          return np.zeros(dim)\n",
        "      return np.mean(vectors, axis=0)\n",
        "\n",
        "    question_embeddings = get_embeddings_from_text(question).reshape(1, -1)\n",
        "\n",
        "    candidates_embeddings = []\n",
        "    for candidate in candidates:\n",
        "      candidate_embedding = get_embeddings_from_text(candidate)\n",
        "      candidates_embeddings.append(candidate_embedding)\n",
        "\n",
        "    similarities = cosine_similarity(question_embeddings, candidates_embeddings).flatten()\n",
        "\n",
        "    ranked_indx = np.argsort(similarities)[::-1]\n",
        "\n",
        "    result = [(i, candidates[i]) for i in ranked_indx]\n",
        "\n",
        "    return result"
      ],
      "execution_count": 113,
      "outputs": []
    },
    {
      "cell_type": "markdown",
      "metadata": {
        "id": "TnBszTb76j3c"
      },
      "source": [
        "Протестируйте работу функции на примерах ниже. Пусть $N=2$, то есть два эксперимента"
      ]
    },
    {
      "cell_type": "code",
      "metadata": {
        "id": "xvQgtP176j3h"
      },
      "source": [
        "questions = ['converting string to list', 'Sending array via Ajax fails']\n",
        "\n",
        "candidates = [['Convert Google results object (pure js) to Python object', # первый эксперимент\n",
        "               'C# create cookie from string and send it',\n",
        "               'How to use jQuery AJAX for an outside domain?'],\n",
        "\n",
        "              ['Getting all list items of an unordered list in PHP',      # второй эксперимент\n",
        "               'WPF- How to update the changes in list item of a list',\n",
        "               'select2 not displaying search results']]"
      ],
      "execution_count": 51,
      "outputs": []
    },
    {
      "cell_type": "code",
      "metadata": {
        "id": "bPj1JGFi6j3m",
        "colab": {
          "base_uri": "https://localhost:8080/"
        },
        "outputId": "476debb2-cd6e-4ad6-fea1-c71cfae742d1"
      },
      "source": [
        "for question, q_candidates in zip(questions, candidates):\n",
        "        ranks = rank_candidates(question, q_candidates, wv_embeddings, tokenizer)\n",
        "        print(ranks)\n",
        "        print()"
      ],
      "execution_count": 112,
      "outputs": [
        {
          "output_type": "stream",
          "name": "stdout",
          "text": [
            "[(1, 'C# create cookie from string and send it'), (0, 'Convert Google results object (pure js) to Python object'), (2, 'How to use jQuery AJAX for an outside domain?')]\n",
            "\n",
            "[(0, 'Getting all list items of an unordered list in PHP'), (2, 'select2 not displaying search results'), (1, 'WPF- How to update the changes in list item of a list')]\n",
            "\n"
          ]
        }
      ]
    },
    {
      "cell_type": "markdown",
      "metadata": {
        "id": "jm4cidj56j3q"
      },
      "source": [
        "Для первого экперимента вы можете полностью сравнить ваши ответы и правильные ответы. Но для второго эксперимента два ответа на кандидаты будут <b>скрыты</b>(*)"
      ]
    },
    {
      "cell_type": "code",
      "metadata": {
        "id": "0LeKMIsn6j3s"
      },
      "source": [
        "# должно вывести\n",
        "results = [[(1, 'C# create cookie from string and send it'),\n",
        "            (0, 'Convert Google results object (pure js) to Python object'),\n",
        "            (2, 'How to use jQuery AJAX for an outside domain?')],\n",
        "           [(*, 'Getting all list items of an unordered list in PHP'), #скрыт\n",
        "            (*, 'select2 not displaying search results'), #скрыт\n",
        "            (*, 'WPF- How to update the changes in list item of a list')]] #скрыт"
      ],
      "execution_count": null,
      "outputs": []
    },
    {
      "cell_type": "markdown",
      "metadata": {
        "id": "t1ttnIBe6j3x"
      },
      "source": [
        "Последовательность начальных индексов вы должны получить `для эксперимента 1`  1, 0, 2."
      ]
    },
    {
      "cell_type": "markdown",
      "metadata": {
        "id": "5WQgYDWd6j3y"
      },
      "source": [
        "#### ***Вопрос 5:***\n",
        "* Какую последовательность начальных индексов вы получили `для эксперимента 2`(перечисление без запятой и пробелов, например, `102` для первого эксперимента?\n"
      ]
    },
    {
      "cell_type": "markdown",
      "source": [
        "**Для эксперимента 2** мы получаем индексы **021**"
      ],
      "metadata": {
        "id": "4tfNyvI9yiac"
      }
    },
    {
      "cell_type": "markdown",
      "metadata": {
        "id": "fPllOY-Y6j30"
      },
      "source": [
        "Теперь мы можем оценить качество нашего метода. Запустите следующие два блока кода для получения результата. Обратите внимание, что вычисление расстояния между векторами занимает некоторое время (примерно 10 минут). Можете взять для validation 1000 примеров."
      ]
    },
    {
      "cell_type": "code",
      "metadata": {
        "id": "Z3q9sxddz-yU"
      },
      "source": [
        "from tqdm.notebook import tqdm"
      ],
      "execution_count": 67,
      "outputs": []
    },
    {
      "cell_type": "code",
      "metadata": {
        "id": "nu7K4mis6j32",
        "colab": {
          "base_uri": "https://localhost:8080/",
          "height": 49,
          "referenced_widgets": [
            "e15b8902158c45ffb94ab54b78ea16d8",
            "0b8a639867a2489e87e55c9b8dc3b374",
            "9a2b58dc41d74bcb9b776a6ff32ee77a",
            "fd53937d4c174968afc81d98a2d57aa9",
            "1653f4b78a6c439d96bb964178da8812",
            "00cc724d0e99485d8831cf71f9272370",
            "e328626a37d845d1a323e7bda7da3ff9",
            "fdb9df4594db410887a7adfb49e95ba6",
            "50b3d2498e7f45628351630cba5586a4",
            "e0298bcbbc1b4ab9b7ae451cf61ea8f7",
            "88b683b08a4e48ac9fad923321fd5a42"
          ]
        },
        "outputId": "8d6f1044-b97e-4e26-e6a1-79099d13586e"
      },
      "source": [
        "wv_ranking = []\n",
        "max_validation_examples = 1000\n",
        "for i, line in enumerate(tqdm(validation_data)):\n",
        "    if i == max_validation_examples:\n",
        "        break\n",
        "    q, *ex = line\n",
        "    ranks = rank_candidates(q, ex, wv_embeddings, tokenizer)\n",
        "    wv_ranking.append([r[0] for r in ranks].index(0) + 1)"
      ],
      "execution_count": 69,
      "outputs": [
        {
          "output_type": "display_data",
          "data": {
            "text/plain": [
              "  0%|          | 0/3760 [00:00<?, ?it/s]"
            ],
            "application/vnd.jupyter.widget-view+json": {
              "version_major": 2,
              "version_minor": 0,
              "model_id": "e15b8902158c45ffb94ab54b78ea16d8"
            }
          },
          "metadata": {}
        }
      ]
    },
    {
      "cell_type": "code",
      "metadata": {
        "scrolled": true,
        "id": "gDtS520v6j35",
        "colab": {
          "base_uri": "https://localhost:8080/",
          "height": 153,
          "referenced_widgets": [
            "c6eff361117843fb84696d7d824217a3",
            "80123c15c6124b13a46cd8f79b9c46b0",
            "bb4f04c0ef3c4a319b30ade8a2796147",
            "d9866f70daf844d5938712389e44415a",
            "46d26e6698c3474ca5d7546265d76687",
            "2281fef429d3496ab96ffce071c81b3c",
            "6209acbd5cde4a9ea939cae82a12360e",
            "69d67977019b42b9b7de9bd9dfb8e473",
            "928f26ce147348459872d3005b019172",
            "5ed9d7b73d384effa5f4e848382e1593",
            "62df3989cedf477fb8def13f4ad76ecb"
          ]
        },
        "outputId": "23f88ea6-824d-453a-ef20-51e54819ee40"
      },
      "source": [
        "for k in tqdm([1, 5, 10, 100, 500, 1000]):\n",
        "    print(\"DCG@%4d: %.3f | Hits@%4d: %.3f\" % (k, dcg_score(wv_ranking, k), k, hits_count(wv_ranking, k)))"
      ],
      "execution_count": 70,
      "outputs": [
        {
          "output_type": "display_data",
          "data": {
            "text/plain": [
              "  0%|          | 0/6 [00:00<?, ?it/s]"
            ],
            "application/vnd.jupyter.widget-view+json": {
              "version_major": 2,
              "version_minor": 0,
              "model_id": "c6eff361117843fb84696d7d824217a3"
            }
          },
          "metadata": {}
        },
        {
          "output_type": "stream",
          "name": "stdout",
          "text": [
            "DCG@   1: 0.410 | Hits@   1: 410.000\n",
            "DCG@   5: 0.495 | Hits@   5: 574.000\n",
            "DCG@  10: 0.517 | Hits@  10: 642.000\n",
            "DCG@ 100: 0.563 | Hits@ 100: 869.000\n",
            "DCG@ 500: 0.577 | Hits@ 500: 971.000\n",
            "DCG@1000: 0.580 | Hits@1000: 1000.000\n"
          ]
        }
      ]
    },
    {
      "cell_type": "markdown",
      "source": [
        "Из формул выше можно понять, что\n",
        "\n",
        "- $ \\text{Hits@K} $ **монотонно неубывающая функция** $ K $, которая стремится к 1 при $ K \\to \\infty $.\n",
        "\n",
        "- $ \\text{DCG@K} $ **монотонно неубывающая функция** $ K $, но рост замедляется с увеличением $ K $ из-за убывания веса $ \\frac{1}{\\log_2(1 + \\text{rank}_{q'_i})} $."
      ],
      "metadata": {
        "id": "SZ16fNZ4mxTC"
      }
    },
    {
      "cell_type": "markdown",
      "metadata": {
        "id": "LL6_Rjg3InL8"
      },
      "source": [
        "### Эмбеддинги, обученные на корпусе похожих вопросов"
      ]
    },
    {
      "cell_type": "code",
      "metadata": {
        "id": "iNvbpR5gJIPz"
      },
      "source": [
        "train_data = read_corpus('./data/train.tsv')"
      ],
      "execution_count": 71,
      "outputs": []
    },
    {
      "cell_type": "markdown",
      "metadata": {
        "id": "Nr281ZyEJfjT"
      },
      "source": [
        "Улучшите качество модели.<br>Склеим вопросы в пары и обучим на них модель Word2Vec из gensim. Выберите размер window. Объясните свой выбор.\n",
        "\n",
        "***Рассмотрим подробнее*** данное склеивание.\n",
        "\n",
        "1. Каждая строка из train_data разбивается на вопрос (question) и список кандидатов.\n",
        "\n",
        "2. Для каждого кандидата вопрос склеивается с ним в одну строку.\n",
        "\n",
        "3. Склеенная строка (combined_text) токенизируется, и полученный список токенов добавляется в общий корпус (corpus).\n",
        "\n",
        "***Пример***\n",
        "\n",
        "    Вопрос: \"What is Python?\"\n",
        "    Кандидаты: [\"Python is a programming language\", \"Java is another language\"]\n",
        "    Склеенные строки:\n",
        "        \"What is Python? Python is a programming language\"\n",
        "        \"What is Python? Java is another language\"\n",
        "         \n",
        "    Токенизированные списки:\n",
        "        ['what', 'is', 'python', 'python', 'is', 'a', 'programming', 'language']\n",
        "        ['what', 'is', 'python', 'java', 'is', 'another', 'language']\n",
        "         \n",
        "     "
      ]
    },
    {
      "cell_type": "code",
      "source": [
        "train_data[111258]"
      ],
      "metadata": {
        "id": "9NNgRRiu8-LL",
        "colab": {
          "base_uri": "https://localhost:8080/"
        },
        "outputId": "29f102f1-f26b-4d74-b1c4-1252f9847500"
      },
      "execution_count": 72,
      "outputs": [
        {
          "output_type": "execute_result",
          "data": {
            "text/plain": [
              "['Determine if the device is a smartphone or tablet?',\n",
              " 'Change imageView params in all cards together']"
            ]
          },
          "metadata": {},
          "execution_count": 72
        }
      ]
    },
    {
      "cell_type": "code",
      "metadata": {
        "id": "f6Y46SSQMTL0",
        "colab": {
          "base_uri": "https://localhost:8080/"
        },
        "outputId": "c7690cab-bfd5-4bde-8920-fc0adb816f5a"
      },
      "source": [
        "# Создаем общий корпус текстов\n",
        "corpus = [item for i in train_data for item in i] # создаем массив из предложений\n",
        "\n",
        "for i in range(len(corpus)):\n",
        "  corpus[i] = tokenizer.tokenize(corpus[i])\n",
        "  # токенизируем каждое предложение\n",
        "\n",
        "print(corpus[0:5])"
      ],
      "execution_count": 119,
      "outputs": [
        {
          "output_type": "stream",
          "name": "stdout",
          "text": [
            "[['converting', 'string', 'list'], ['convert', 'google', 'results', 'object', 'pure', 'js', 'python', 'object'], ['html', '5', 'canvas', 'javascript', 'use', 'making', 'interactive', 'drawing', 'tool'], ['event', 'handling', 'geometries', 'three', 'js'], ['sending', 'array', 'via', 'ajax', 'fails']]\n"
          ]
        }
      ]
    },
    {
      "cell_type": "code",
      "source": [
        "len(corpus)"
      ],
      "metadata": {
        "colab": {
          "base_uri": "https://localhost:8080/"
        },
        "id": "7mN7YzwodWdP",
        "outputId": "67567d11-e538-43d6-fbd1-0329ff53db85"
      },
      "execution_count": 103,
      "outputs": [
        {
          "output_type": "execute_result",
          "data": {
            "text/plain": [
              "12956166"
            ]
          },
          "metadata": {},
          "execution_count": 103
        }
      ]
    },
    {
      "cell_type": "code",
      "metadata": {
        "id": "QuJzAM0cI-UH"
      },
      "source": [
        "from gensim.models import Word2Vec\n",
        "embeddings_trained = Word2Vec(\n",
        "    sentences=corpus,        # Корпус токенизированных текстов\n",
        "    vector_size=200,         # Размерность векторов\n",
        "    window= 10,                # Размер окна контекста\n",
        "    min_count= 20,             # Минимальная частота слов\n",
        "    workers=4                # Количество потоков\n",
        ").wv"
      ],
      "execution_count": 125,
      "outputs": []
    },
    {
      "cell_type": "code",
      "source": [
        "wv_ranking = []\n",
        "max_validation_examples = 1000\n",
        "for i, line in enumerate(tqdm(validation_data)):\n",
        "    if i == max_validation_examples:\n",
        "        break\n",
        "    q, *ex = line\n",
        "    ranks = rank_candidates(q, ex, embeddings_trained, tokenizer)\n",
        "    wv_ranking.append([r[0] for r in ranks].index(0) + 1)"
      ],
      "metadata": {
        "colab": {
          "base_uri": "https://localhost:8080/",
          "height": 49,
          "referenced_widgets": [
            "d841a4bc85e94060a4fb92c2bb39fb69",
            "07738327b4a944a3b7ad646f866481cd",
            "79bc98946ed44d16aad351fe36aa82a7",
            "a113bf2364b34526955325355b976846",
            "7a59b33f5d554d049b442dcce2cb4819",
            "7774bb4809924c46ae6468d7fcf703f4",
            "383ec7e22a3c40e6ad0b6a00306fc9e8",
            "2b360da447d64cf6bfa45da3dc718b06",
            "6d42d02a512b4180988dd8f3a85bdd3c",
            "f15dff93c8684a9e9a1d1e412400dee5",
            "9473a3b7ba054be39720dce366bb32e7"
          ]
        },
        "id": "GquDcPA6h3mI",
        "outputId": "baed888b-386b-4205-9e52-d7ebc406b6ed"
      },
      "execution_count": 126,
      "outputs": [
        {
          "output_type": "display_data",
          "data": {
            "text/plain": [
              "  0%|          | 0/3760 [00:00<?, ?it/s]"
            ],
            "application/vnd.jupyter.widget-view+json": {
              "version_major": 2,
              "version_minor": 0,
              "model_id": "d841a4bc85e94060a4fb92c2bb39fb69"
            }
          },
          "metadata": {}
        }
      ]
    },
    {
      "cell_type": "code",
      "metadata": {
        "id": "3kahBUPGMgGR",
        "colab": {
          "base_uri": "https://localhost:8080/",
          "height": 153,
          "referenced_widgets": [
            "caa6d29bfcbe4494a62e698c5ab68dca",
            "b405e83bf4e34f5e8fc17533f84fd5f2",
            "40d3e02fb01d4b58a1dd1b34dd66d6c7",
            "448fdcb3ca674d19a29db741e1cd230a",
            "b9c43379f13d468fb4296edbd68f0c42",
            "2daf4f5e69984cf687d5f1fd676c7bef",
            "9801be9535724ea8a666edf9d7fa9170",
            "59089f2cc0824c5c8c7a08e0208e6824",
            "78d5d8f580c44581b538b1e1cd0be0ee",
            "af30e1b046644ffa95e716bceee9776b",
            "8a32a55db27f4c1faac34a19335c17ff"
          ]
        },
        "outputId": "010973e2-c469-4830-f1a4-ebe75670c149"
      },
      "source": [
        "for k in tqdm([1, 5, 10, 100, 500, 1000]):\n",
        "    print(\"DCG@%4d: %.3f | Hits@%4d: %.3f\" % (k, dcg_score(wv_ranking, k), k, hits_count(wv_ranking, k)))"
      ],
      "execution_count": 127,
      "outputs": [
        {
          "output_type": "display_data",
          "data": {
            "text/plain": [
              "  0%|          | 0/6 [00:00<?, ?it/s]"
            ],
            "application/vnd.jupyter.widget-view+json": {
              "version_major": 2,
              "version_minor": 0,
              "model_id": "caa6d29bfcbe4494a62e698c5ab68dca"
            }
          },
          "metadata": {}
        },
        {
          "output_type": "stream",
          "name": "stdout",
          "text": [
            "DCG@   1: 0.392 | Hits@   1: 392.000\n",
            "DCG@   5: 0.480 | Hits@   5: 563.000\n",
            "DCG@  10: 0.503 | Hits@  10: 634.000\n",
            "DCG@ 100: 0.548 | Hits@ 100: 851.000\n",
            "DCG@ 500: 0.563 | Hits@ 500: 969.000\n",
            "DCG@1000: 0.567 | Hits@1000: 1000.000\n"
          ]
        }
      ]
    },
    {
      "cell_type": "markdown",
      "metadata": {
        "id": "tY8PxB0j-ThG"
      },
      "source": [
        "### Замечание:\n",
        "Решить эту задачу с помощью обучения полноценной нейронной сети будет вам предложено, как часть задания в одной из домашних работ по теме \"Диалоговые системы\"."
      ]
    },
    {
      "cell_type": "markdown",
      "metadata": {
        "id": "vymVj8IxO2PO"
      },
      "source": [
        "Напишите свой вывод о полученных результатах.\n",
        "* Какой принцип токенизации даёт качество лучше и почему?\n",
        "* Помогает ли нормализация слов?\n",
        "* Какие эмбеддинги лучше справляются с задачей и почему?\n",
        "* Почему получилось плохое качество решения задачи?\n",
        "* Предложите свой подход к решению задачи.\n",
        "\n",
        "## Вывод:\n"
      ]
    },
    {
      "cell_type": "markdown",
      "source": [
        "Какой принцип токенизации даёт качество лучше и почему?\n",
        "Это зависит от контекста задачи. Если мы работаем с русским языком, то тут нужно многое учитывать. Морфологическая или subword-токенизация обычно дают лучшие результаты, так как учитывают внутреннюю структуру слов.\n",
        "Для английского языка : часто достаточно использовать токенизацию по пробелам с учетом пунктуации.\n",
        "Subword-токенизация особенно полезна, если в корпусе много редких слов или большой объем текста."
      ],
      "metadata": {
        "id": "DwmMC45smRZu"
      }
    },
    {
      "cell_type": "markdown",
      "metadata": {
        "id": "emODHztAQUQz"
      },
      "source": [
        "Помогает ли нормализация: Да, нормализация слов (приведение к начальной форме) улучшает качество модели, так как уменьшает размерность пространства токенов и устраняет дублирование (например, \"кот\", \"кота\", \"коту\" → \"кот\").\n",
        "\n",
        "Почему: Нормализация уменьшает шум в данных и помогает модели лучше обобщать\n",
        "\n",
        "Лучшие эмбеддинги: Контекстные эмбеддинги (например, BERT, FastText) справляются лучше, чем статические (например, Word2Vec).\n",
        "\n",
        "Почему: Контекстные эмбеддинги учитывают контекст слова, что особенно важно для многозначных слов. FastText также лучше работает с редкими словами, так как использует субтокены (n-граммы символов).\n",
        "\n",
        "Почему получилось плохое качество:\n",
        "Использование статических эмбеддингов (Word2Vec), которые не учитывают контекст."
      ]
    },
    {
      "cell_type": "markdown",
      "source": [
        "Предложите свой подход к решению задачи:\n",
        "\n",
        "1.   Возможно еще поэксперементровать с гипермараметрами.\n",
        "2.   Использовать не Word2Vec, а к примеру FastText.\n",
        "3.   Изменить метод токенизации.\n",
        "\n"
      ],
      "metadata": {
        "id": "gDfHGAltm2NO"
      }
    }
  ]
}
